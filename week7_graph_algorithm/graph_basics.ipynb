{
 "cells": [
  {
   "cell_type": "code",
   "execution_count": 135,
   "metadata": {},
   "outputs": [],
   "source": [
    "graph = {\n",
    "    'a' : ['b','c'],\n",
    "    'b' : ['d'],\n",
    "    'c' : ['e'],\n",
    "    'd' : ['f'],\n",
    "    'e' : [],\n",
    "    'f' : []\n",
    "}"
   ]
  },
  {
   "attachments": {},
   "cell_type": "markdown",
   "metadata": {},
   "source": [
    "### We need start node or src node to sepcify where to start, also the whole graph info"
   ]
  },
  {
   "cell_type": "code",
   "execution_count": 136,
   "metadata": {},
   "outputs": [],
   "source": [
    "def graph_dfs(graph,start_node):\n",
    "    print(start_node)\n",
    "    \n",
    "    if graph[start_node] == []:\n",
    "        return False\n",
    "    \n",
    "    for e in graph[start_node]:\n",
    "        graph_dfs(graph,e)\n",
    "    "
   ]
  },
  {
   "cell_type": "code",
   "execution_count": 137,
   "metadata": {},
   "outputs": [
    {
     "name": "stdout",
     "output_type": "stream",
     "text": [
      "a\n",
      "b\n",
      "d\n",
      "f\n",
      "c\n",
      "e\n"
     ]
    }
   ],
   "source": [
    "graph_dfs(graph,start_node='a')"
   ]
  },
  {
   "attachments": {},
   "cell_type": "markdown",
   "metadata": {},
   "source": [
    "### DFS iterative using Stack"
   ]
  },
  {
   "cell_type": "code",
   "execution_count": 138,
   "metadata": {},
   "outputs": [],
   "source": [
    "def graph_dfs(graph,start_node):\n",
    "    # Instantiate start node.\n",
    "    if graph == {}:\n",
    "        print(\"Graph is empty\")\n",
    "        return False\n",
    "    \n",
    "    # Push start node into stack\n",
    "    stack = [start_node]\n",
    "    \n",
    "    while stack != []:\n",
    "        node = stack.pop()\n",
    "        print(node)\n",
    "        for n in graph[node]:\n",
    "            stack.append(n)\n",
    "        "
   ]
  },
  {
   "cell_type": "code",
   "execution_count": 139,
   "metadata": {},
   "outputs": [
    {
     "name": "stdout",
     "output_type": "stream",
     "text": [
      "a\n",
      "c\n",
      "e\n",
      "b\n",
      "d\n",
      "f\n"
     ]
    }
   ],
   "source": [
    "graph_dfs(graph,'a')"
   ]
  },
  {
   "attachments": {},
   "cell_type": "markdown",
   "metadata": {},
   "source": [
    "### Basic Queue"
   ]
  },
  {
   "cell_type": "code",
   "execution_count": 140,
   "metadata": {},
   "outputs": [],
   "source": [
    "import numpy as np\n",
    "class Queue:\n",
    "    def __init__(self,size,datatype):\n",
    "        self.arr = np.empty(size,dtype = datatype)\n",
    "        self.size = size\n",
    "        self.front = 0\n",
    "        self.rear  = 0\n",
    "    \n",
    "    def isFull(self):\n",
    "        n_rear = (self.rear + 1) % self.size\n",
    "        return n_rear == self.front\n",
    "    \n",
    "    def isEmpty(self):\n",
    "        return self.front == self.rear\n",
    "        \n",
    "        \n",
    "    def enqueue(self,val):\n",
    "        if self.isFull():\n",
    "            return \"Queue is full\"\n",
    "        else:\n",
    "            self.rear = (self.rear + 1) % self.size\n",
    "            self.arr[self.rear] = val\n",
    "        \n",
    "    def dequeue(self):\n",
    "        if self.isEmpty():\n",
    "            print(\"Queue is empty!\")\n",
    "            return None\n",
    "        else:\n",
    "            self.front = (self.front + 1) % self.size\n",
    "            val = self.arr[self.front]\n",
    "            self.arr[self.front] = 0\n",
    "            return val\n",
    "    def displayQueue(self):\n",
    "        for e in self.arr:\n",
    "            if e is not None:\n",
    "                print(e.value)\n",
    "    "
   ]
  },
  {
   "cell_type": "code",
   "execution_count": 141,
   "metadata": {},
   "outputs": [],
   "source": [
    "queueSize = 50\n",
    "type('a')\n",
    "\n",
    "q = Queue(queueSize,str)\n",
    "\n"
   ]
  },
  {
   "attachments": {},
   "cell_type": "markdown",
   "metadata": {},
   "source": [
    "### Breadth first search graph traversal"
   ]
  },
  {
   "cell_type": "code",
   "execution_count": 142,
   "metadata": {},
   "outputs": [],
   "source": [
    "def graph_bfs(graph,src_node):\n",
    "    queueSize = 50\n",
    "    q = Queue(queueSize,str)\n",
    "    q.enqueue(src_node)\n",
    "    \n",
    "    while q.isEmpty() is not True:\n",
    "        node = q.dequeue()\n",
    "        print(node)\n",
    "        for neighbor in graph[node]:\n",
    "            q.enqueue(neighbor)"
   ]
  },
  {
   "cell_type": "code",
   "execution_count": 143,
   "metadata": {},
   "outputs": [
    {
     "name": "stdout",
     "output_type": "stream",
     "text": [
      "a\n",
      "b\n",
      "c\n",
      "d\n",
      "e\n",
      "f\n"
     ]
    }
   ],
   "source": [
    "graph_bfs(graph,'a')"
   ]
  },
  {
   "attachments": {},
   "cell_type": "markdown",
   "metadata": {},
   "source": [
    "### Has path problem\n",
    "#### For an acyclic graph, check if the there is a path from src node to dst node"
   ]
  },
  {
   "cell_type": "code",
   "execution_count": 144,
   "metadata": {},
   "outputs": [],
   "source": [
    "g = {\n",
    "    'f' : ['i','g'],\n",
    "    'i' : ['g','k'],\n",
    "    'j' : ['i'],\n",
    "    'k' : [],\n",
    "    'g' : ['h'],\n",
    "    'h' : []\n",
    "}\n"
   ]
  },
  {
   "cell_type": "code",
   "execution_count": 145,
   "metadata": {},
   "outputs": [],
   "source": [
    "def haspath(graph,src,dst):\n",
    "    # Given a src node, return whether there is a path from the src node to the dst node\n",
    "    # More advanced problem would be return a path from src node to the dst node\n",
    "    \n",
    "    stack = [src]\n",
    "    while stack != []:\n",
    "        currentVistedNode = stack.pop()\n",
    "        if currentVistedNode == dst:\n",
    "            return True\n",
    "        for neighbor in graph[currentVistedNode]:\n",
    "            stack.append(neighbor)\n",
    "    \n",
    "    return False"
   ]
  },
  {
   "cell_type": "code",
   "execution_count": 146,
   "metadata": {},
   "outputs": [
    {
     "name": "stdout",
     "output_type": "stream",
     "text": [
      "False\n"
     ]
    }
   ],
   "source": [
    "print(haspath(g,'f','j'))"
   ]
  },
  {
   "attachments": {},
   "cell_type": "markdown",
   "metadata": {},
   "source": [
    "### Adjust the problem to print a path from src node to dst node"
   ]
  },
  {
   "cell_type": "code",
   "execution_count": 147,
   "metadata": {},
   "outputs": [],
   "source": [
    "def givepath(graph,src,dst):\n",
    "    # Given a src node, return whether there a path from the src node to the dst node\n",
    "    # More advanced problem would be return a path from src node to the dst node\n",
    "    # Everytime I backtrack, undo the damage by clearing up the path, \n",
    "    \n",
    "    path = []\n",
    "    traversed = []\n",
    "    \n",
    "    stack = [src]\n",
    "    while stack != []:\n",
    "        currentVistedNode = stack.pop()\n",
    "        \n",
    "        if currentVistedNode == '-':\n",
    "            # Undo the damage, by backtracking.\n",
    "            path.pop() \n",
    "        else:\n",
    "            # Everytime I visit a node, mark it as traversed and add it into the path\n",
    "            path.append(currentVistedNode)\n",
    "            traversed.append(currentVistedNode)\n",
    "            \n",
    "            for neighbor in graph[currentVistedNode]:\n",
    "                if neighbor == dst:\n",
    "                    # If neighbor is the dst, early return\n",
    "                    path.append(neighbor)\n",
    "                    return path\n",
    "                elif neighbor not in traversed:\n",
    "                    # Add only the node that is not yet traversed\n",
    "                    # The undo damage node when backtracking, define '-' as clear symbol\n",
    "                    stack.append('-') \n",
    "                    stack.append(neighbor)\n",
    "            \n",
    "    \n",
    "    return False"
   ]
  },
  {
   "cell_type": "code",
   "execution_count": 148,
   "metadata": {},
   "outputs": [
    {
     "name": "stdout",
     "output_type": "stream",
     "text": [
      "['f', 'i', 'k']\n",
      "False\n"
     ]
    }
   ],
   "source": [
    "print(givepath(g,'f','k'))\n",
    "print(givepath(g,'f','j'))"
   ]
  },
  {
   "attachments": {},
   "cell_type": "markdown",
   "metadata": {},
   "source": [
    "###  Traversing an undirected graph"
   ]
  },
  {
   "attachments": {},
   "cell_type": "markdown",
   "metadata": {},
   "source": [
    "#### Given an undirected graph, find a path from 1 node to another, do it in BFS manner"
   ]
  },
  {
   "cell_type": "code",
   "execution_count": 149,
   "metadata": {},
   "outputs": [],
   "source": [
    "g = {\n",
    "    'i' : ['k','j'],\n",
    "    'j' : ['i','k'],\n",
    "    'k' : ['i','j','l','m'],\n",
    "    'l' : ['k'],\n",
    "    'm' : ['k'],\n",
    "    'n' : ['o'],\n",
    "    'o' : ['n']\n",
    "}"
   ]
  },
  {
   "cell_type": "code",
   "execution_count": 150,
   "metadata": {},
   "outputs": [],
   "source": [
    "def givepath_bfs(graph,src,dst):\n",
    "    # Given an Undirected graph, src node and a destination node,\n",
    "    # Return a path from src node to destination using BFS traversal\n",
    "    MAXSIZE = 200\n",
    "    q = Queue(MAXSIZE,str)\n",
    "    q.enqueue(src)\n",
    "    \n",
    "    path = []\n",
    "    visited = []\n",
    "    \n",
    "    # While there is still node to reverse in queue,do the following\n",
    "    while q.isEmpty() is False:\n",
    " \n",
    "        #From the queue, take out the node to traverse\n",
    "        currentNode = q.dequeue()\n",
    "        \n",
    "        # Add node into path and visited\n",
    "        path.append(currentNode)\n",
    "        visited.append(currentNode)\n",
    "        \n",
    "        # From this node traverse the unvisted neighbor nodes\n",
    "        for neighbor in graph[currentNode]:\n",
    "            if neighbor not in visited:\n",
    "                fullyTraversed = True\n",
    "                q.enqueue(neighbor)\n",
    "                if neighbor == dst:\n",
    "                    path.append(neighbor)\n",
    "                    return path\n",
    "\n",
    "    return False\n",
    "        "
   ]
  },
  {
   "cell_type": "code",
   "execution_count": 151,
   "metadata": {},
   "outputs": [
    {
     "name": "stdout",
     "output_type": "stream",
     "text": [
      "['i', 'k', 'l']\n",
      "False\n"
     ]
    }
   ],
   "source": [
    "print(givepath_bfs(g,'i','l'))\n",
    "\n",
    "print(givepath_bfs(g,'l','n'))"
   ]
  },
  {
   "attachments": {},
   "cell_type": "markdown",
   "metadata": {},
   "source": [
    "### Converting edge representation in adjacency list representation"
   ]
  },
  {
   "cell_type": "code",
   "execution_count": 152,
   "metadata": {},
   "outputs": [
    {
     "name": "stdout",
     "output_type": "stream",
     "text": [
      "{'j': ['i', 'k'], 'i': ['j', 'k'], 'k': ['i', 'm', 'l', 'j'], 'm': ['k'], 'l': ['k', 'o'], 'n': ['o'], 'o': ['n', 'l']}\n"
     ]
    }
   ],
   "source": [
    "edges = [\n",
    "    ['i','j'],\n",
    "    ['k','i'],\n",
    "    ['m','k'],\n",
    "    ['k','l'],\n",
    "    ['o','n'],\n",
    "    ['j','k'],\n",
    "    ['o','l']\n",
    "]\n",
    "\n",
    "graph2 = {}\n",
    "\n",
    "# Converting the edges representation into undirected graph representation\n",
    "for edge in edges:\n",
    "    node1 = edge[0]\n",
    "    node2 = edge[1]\n",
    "    \n",
    "    # Check if node1 and node2 is in directory, if not add each other into each others directory\n",
    "    if node2 not in graph2:\n",
    "        # This not in search can actually be implemented using a binary search tree.\n",
    "        # If it is an optimal binary search tree, the seraching would become even faster.\n",
    "        graph2[node2] = []\n",
    "        graph2[node2].append(node1)\n",
    "    elif node1 not in graph2[node2]:\n",
    "        graph2[node2].append(node1)\n",
    "            \n",
    "    if node1 not in graph2:\n",
    "        graph2[node1] = []\n",
    "        graph2[node1].append(node2)\n",
    "    elif node2 not in graph2[node1]:\n",
    "        graph2[node1].append(node2)\n",
    "    \n",
    "print(graph2)"
   ]
  },
  {
   "cell_type": "code",
   "execution_count": 153,
   "metadata": {},
   "outputs": [],
   "source": [
    "# print(givepath_bfs(graph,'i','l'))"
   ]
  },
  {
   "attachments": {},
   "cell_type": "markdown",
   "metadata": {},
   "source": [
    "## Connected components count problem\n",
    "### Given a graph, count the number of connected components within this graph."
   ]
  },
  {
   "cell_type": "code",
   "execution_count": 154,
   "metadata": {},
   "outputs": [],
   "source": [
    "g = {\n",
    "     0: [1],\n",
    "     1: [0,2],\n",
    "     2: [1],\n",
    "     3: [],\n",
    "     4: [6],\n",
    "     5: [6],\n",
    "     6: [4,5,7,8],\n",
    "     7: [6],\n",
    "     8: [6]\n",
    "}\n",
    "# Need the iterative code to traverse every possible nodes\n",
    "# Also needs to traverse"
   ]
  },
  {
   "cell_type": "code",
   "execution_count": 155,
   "metadata": {},
   "outputs": [
    {
     "data": {
      "text/plain": [
       "[1]"
      ]
     },
     "execution_count": 155,
     "metadata": {},
     "output_type": "execute_result"
    }
   ],
   "source": [
    "g[0]"
   ]
  },
  {
   "attachments": {},
   "cell_type": "markdown",
   "metadata": {},
   "source": [
    "## Using stack for traversal"
   ]
  },
  {
   "cell_type": "code",
   "execution_count": 156,
   "metadata": {},
   "outputs": [],
   "source": [
    "visited = []\n",
    "stack = []\n",
    "count = 0\n",
    "\n",
    "#Explore every node in the graph\n",
    "for node in g:\n",
    "    # This is a Component only if it performs at least 1 dfs.\n",
    "    isComponent = False\n",
    "    \n",
    "    #If starting from this node, the whole component associated with this node is traversed\n",
    "    #Count += 1\n",
    "    #First check if this is a visited node, only start traversing if this node is not visited.\n",
    "    if node not in visited:\n",
    "        # print(node)\n",
    "        isComponent = True\n",
    "        stack = [node]\n",
    "    \n",
    "    #Do DFS starting from this node\n",
    "    while stack!=[]:\n",
    "        currentNode = stack.pop()\n",
    "        visited.append(currentNode)\n",
    "        \n",
    "        # Visit all the neighbor from this node\n",
    "        for neighbor in g[currentNode]:\n",
    "            if neighbor not in visited:\n",
    "                stack.append(neighbor)\n",
    "    \n",
    "    # If I have done the DFS for this node, count ++\n",
    "    if isComponent is True:\n",
    "        count += 1"
   ]
  },
  {
   "cell_type": "code",
   "execution_count": 157,
   "metadata": {},
   "outputs": [
    {
     "data": {
      "text/plain": [
       "3"
      ]
     },
     "execution_count": 157,
     "metadata": {},
     "output_type": "execute_result"
    }
   ],
   "source": [
    "count"
   ]
  },
  {
   "attachments": {},
   "cell_type": "markdown",
   "metadata": {},
   "source": [
    "## Largest Components \n",
    "### Return the number of nodes of the largest component"
   ]
  },
  {
   "cell_type": "code",
   "execution_count": 158,
   "metadata": {},
   "outputs": [],
   "source": [
    "visited = []\n",
    "stack = []\n",
    "largest_count = 0\n",
    "\n",
    "#Explore every node in the graph\n",
    "for node in g:\n",
    "    # This is a Component only if it performs at least 1 dfs.\n",
    "    isComponent = False\n",
    "    count = 0\n",
    "    \n",
    "    #If starting from this node, the whole component associated with this node is traversed\n",
    "    #Count += 1\n",
    "    #First check if this is a visited node, only start traversing if this node is not visited.\n",
    "    if node not in visited:\n",
    "        isComponent = True\n",
    "        stack = [node]\n",
    "    \n",
    "    #Do DFS starting from this node\n",
    "    while stack!=[]:\n",
    "        currentNode = stack.pop()\n",
    "        visited.append(currentNode)\n",
    "        count += 1\n",
    "        \n",
    "        # Visit all the neighbor from this node\n",
    "        for neighbor in g[currentNode]:\n",
    "            if neighbor not in visited:\n",
    "                stack.append(neighbor)\n",
    "    \n",
    "    # If I have done the DFS for this node, count ++\n",
    "    if isComponent is True:\n",
    "        # Compare with the current max\n",
    "        if count >= largest_count:\n",
    "            largest_count = count"
   ]
  },
  {
   "cell_type": "code",
   "execution_count": 159,
   "metadata": {},
   "outputs": [
    {
     "data": {
      "text/plain": [
       "5"
      ]
     },
     "execution_count": 159,
     "metadata": {},
     "output_type": "execute_result"
    }
   ],
   "source": [
    "largest_count"
   ]
  },
  {
   "attachments": {},
   "cell_type": "markdown",
   "metadata": {},
   "source": [
    "### Largest Components problem using Recursive algorithm of internal function call"
   ]
  },
  {
   "cell_type": "code",
   "execution_count": 160,
   "metadata": {},
   "outputs": [],
   "source": [
    "def find_largest_components(graph):\n",
    "    # Driver code\n",
    "    largest_count = 0\n",
    "    visited = []\n",
    "    \n",
    "    for node in graph:\n",
    "        count = 0\n",
    "        if node not in visited:\n",
    "            count = dfs_count_largest_components(graph,node,visited)\n",
    "        \n",
    "            if count >= largest_count:\n",
    "                largest_count = count \n",
    "\n",
    "    return largest_count\n",
    "\n",
    "def dfs_count_largest_components(graph,src_node,visited):\n",
    "    \n",
    "    count = 1\n",
    "    \n",
    "    if src_node not in visited:\n",
    "        # Mark visited once we traverse this node, also check if it is visited or not.\n",
    "        visited.append(src_node)\n",
    "        \n",
    "    for node in graph[src_node]:\n",
    "        if node not in visited:\n",
    "            count += dfs_count_largest_components(graph,node,visited)\n",
    "            \n",
    "\n",
    "    return count"
   ]
  },
  {
   "cell_type": "code",
   "execution_count": 161,
   "metadata": {},
   "outputs": [
    {
     "name": "stdout",
     "output_type": "stream",
     "text": [
      "5\n"
     ]
    }
   ],
   "source": [
    "print(find_largest_components(g))"
   ]
  },
  {
   "cell_type": "code",
   "execution_count": 162,
   "metadata": {},
   "outputs": [],
   "source": [
    "g = {\n",
    "    0:[8,1,5],\n",
    "    1:[0],\n",
    "    5:[0,8],\n",
    "    8:[0,5],\n",
    "    2:[3,4],\n",
    "    3:[2,4],\n",
    "    4:[3,2]\n",
    "}"
   ]
  },
  {
   "cell_type": "code",
   "execution_count": 163,
   "metadata": {},
   "outputs": [
    {
     "name": "stdout",
     "output_type": "stream",
     "text": [
      "4\n"
     ]
    }
   ],
   "source": [
    "print(find_largest_components(g))"
   ]
  },
  {
   "attachments": {},
   "cell_type": "markdown",
   "metadata": {},
   "source": [
    "### Shortest path(Not the weighted graph)\n",
    "#### Find the minimum path distance, i.e. the number of edges this certain path possesses.\n",
    "#### BFS in its essence, can find the shortest path\n",
    "#### You also need to store the node and distance to that node\n"
   ]
  },
  {
   "attachments": {},
   "cell_type": "markdown",
   "metadata": {},
   "source": [
    "### Try to find the shortest path with smallest edges count from one node to another"
   ]
  },
  {
   "cell_type": "code",
   "execution_count": 164,
   "metadata": {},
   "outputs": [],
   "source": [
    "edges = [\n",
    "    ['w','x'],\n",
    "    ['x','y'],\n",
    "    ['z','y'],\n",
    "    ['z','v'],\n",
    "    ['w','v']\n",
    "]"
   ]
  },
  {
   "cell_type": "code",
   "execution_count": 165,
   "metadata": {},
   "outputs": [],
   "source": [
    "\n",
    "# Converting the edges representation into undirected graph representation\n",
    "for edge in edges:\n",
    "    node1 = edge[0]\n",
    "    node2 = edge[1]\n",
    "    \n",
    "    # Check if node1 and node2 is in directory, if not add each other into each others directory\n",
    "    if node2 not in graph:\n",
    "        # This not in search can actually be implemented using a binary search tree.\n",
    "        # If it is an optimal binary search tree, the seraching would become even faster.\n",
    "        graph[node2] = []\n",
    "        graph[node2].append(node1)\n",
    "    elif node1 not in graph[node2]:\n",
    "        graph[node2].append(node1)\n",
    "            \n",
    "    if node1 not in graph:\n",
    "        graph[node1] = []\n",
    "        graph[node1].append(node2)\n",
    "    elif node2 not in graph[node1]:\n",
    "        graph[node1].append(node2)\n"
   ]
  },
  {
   "cell_type": "code",
   "execution_count": 166,
   "metadata": {},
   "outputs": [
    {
     "data": {
      "text/plain": [
       "{'a': ['b', 'c'],\n",
       " 'b': ['d'],\n",
       " 'c': ['e'],\n",
       " 'd': ['f'],\n",
       " 'e': [],\n",
       " 'f': [],\n",
       " 'x': ['w', 'y'],\n",
       " 'w': ['x', 'v'],\n",
       " 'y': ['x', 'z'],\n",
       " 'z': ['y', 'v'],\n",
       " 'v': ['z', 'w']}"
      ]
     },
     "execution_count": 166,
     "metadata": {},
     "output_type": "execute_result"
    }
   ],
   "source": [
    "graph"
   ]
  },
  {
   "attachments": {},
   "cell_type": "markdown",
   "metadata": {},
   "source": [
    "## Given a graph, a src node and an end node\n",
    "### Return the shortest path count"
   ]
  },
  {
   "cell_type": "code",
   "execution_count": 167,
   "metadata": {},
   "outputs": [],
   "source": [
    "MAXSIZE = 300\n",
    "q = Queue(MAXSIZE,str)\n",
    "\n",
    "src_node = 'w'\n",
    "end_node = 'z'\n",
    "visited = []\n",
    "\n",
    "path_count = 0\n",
    "end_point_found = 0\n",
    "\n",
    "q.enqueue(src_node)\n",
    "visited.append(src_node)\n",
    "\n",
    "while q.isEmpty() is False:\n",
    "    currentNode = q.dequeue()\n",
    "    \n",
    "    for neighbor in graph[currentNode]:\n",
    "        if neighbor not in visited:\n",
    "            q.enqueue(neighbor)\n",
    "        if neighbor == end_node:\n",
    "            path_count += 1\n",
    "            end_point_found = 1\n",
    "            break \n",
    "\n",
    "    if end_point_found == 1:\n",
    "        break\n",
    "    \n",
    "    path_count += 1      \n"
   ]
  },
  {
   "cell_type": "code",
   "execution_count": 168,
   "metadata": {},
   "outputs": [],
   "source": [
    "def shortest_path(graph, src_node, end_node):\n",
    "\n",
    "    MAXSIZE = 300\n",
    "    q = Queue(MAXSIZE,str)\n",
    "    q_int = Queue(MAXSIZE,int)\n",
    "    q_path = Queue(MAXSIZE,list)\n",
    "\n",
    "    visited = []\n",
    "    currentPath = []\n",
    "    \n",
    "\n",
    "    path_count = 0\n",
    "    end_point_found = 0\n",
    "\n",
    "    q.enqueue(src_node)\n",
    "    q_int.enqueue(0)\n",
    "    q_path.enqueue([])\n",
    "\n",
    "    # BFS\n",
    "    while q.isEmpty() is False:\n",
    "        currentNode = q.dequeue()\n",
    "        path_count  = q_int.dequeue()\n",
    "        currentPath = q_path.dequeue()\n",
    "                \n",
    "        visited.append(currentNode)\n",
    "        \n",
    "        for neighbor in graph[currentNode]:\n",
    "            if neighbor == end_node:\n",
    "                currentPath.append(neighbor)\n",
    "                path_count += 1\n",
    "                end_point_found = 1\n",
    "                break \n",
    "            \n",
    "            if neighbor not in visited:\n",
    "                new_count = path_count + 1\n",
    "                new_path  = currentPath.append(neighbor)\n",
    "                q_path.enqueue(new_path)\n",
    "                q_int.enqueue(new_count)\n",
    "                q.enqueue(neighbor)\n",
    "\n",
    "        if end_point_found == 1:\n",
    "            break\n",
    "            \n",
    "\n",
    "    return path_count, currentPath\n"
   ]
  },
  {
   "cell_type": "code",
   "execution_count": 169,
   "metadata": {},
   "outputs": [
    {
     "data": {
      "text/plain": [
       "{'a': ['b', 'c'],\n",
       " 'b': ['d'],\n",
       " 'c': ['e'],\n",
       " 'd': ['f'],\n",
       " 'e': [],\n",
       " 'f': [],\n",
       " 'x': ['w', 'y'],\n",
       " 'w': ['x', 'v'],\n",
       " 'y': ['x', 'z'],\n",
       " 'z': ['y', 'v'],\n",
       " 'v': ['z', 'w']}"
      ]
     },
     "execution_count": 169,
     "metadata": {},
     "output_type": "execute_result"
    }
   ],
   "source": [
    "graph"
   ]
  },
  {
   "cell_type": "code",
   "execution_count": 170,
   "metadata": {},
   "outputs": [],
   "source": [
    "# print(shortest_path(graph, 'w', 'z'))"
   ]
  },
  {
   "cell_type": "code",
   "execution_count": 171,
   "metadata": {},
   "outputs": [],
   "source": [
    "# graph2"
   ]
  },
  {
   "cell_type": "code",
   "execution_count": 172,
   "metadata": {},
   "outputs": [],
   "source": [
    "# print(shortest_path(graph2, 'n', 'j'))"
   ]
  },
  {
   "cell_type": "code",
   "execution_count": 177,
   "metadata": {},
   "outputs": [],
   "source": [
    "def shortest_path(graph, src_node, end_node):\n",
    "\n",
    "    MAXSIZE = 300\n",
    "    q = Queue(MAXSIZE,str)\n",
    "    q_int = Queue(MAXSIZE,int)\n",
    "    q_path = Queue(MAXSIZE,list)\n",
    "\n",
    "    visited = []\n",
    "    currentPath = []\n",
    "    \n",
    "\n",
    "    path_count = 0\n",
    "    end_point_found = 0\n",
    "\n",
    "    q.enqueue(src_node)\n",
    "    q_int.enqueue(0)\n",
    "    q_path.enqueue([src_node])\n",
    "\n",
    "    # BFS\n",
    "    while q.isEmpty() is False:\n",
    "        currentNode = q.dequeue()\n",
    "        path_count  = q_int.dequeue()\n",
    "        currentPath = q_path.dequeue()\n",
    "        print(currentPath)\n",
    "                \n",
    "        visited.append(currentNode)\n",
    "        \n",
    "        for neighbor in graph[currentNode]:\n",
    "            if neighbor == end_node:\n",
    "                currentPath.append(neighbor)\n",
    "                path_count += 1\n",
    "                end_point_found = 1\n",
    "                break \n",
    "            \n",
    "            if neighbor not in visited:\n",
    "                new_count = path_count + 1\n",
    "                print(currentPath)\n",
    "                new_path  = currentPath.append(neighbor)\n",
    "                q_path.enqueue(new_path)\n",
    "                q_int.enqueue(new_count)\n",
    "                q.enqueue(neighbor)\n",
    "\n",
    "        if end_point_found == 1:\n",
    "            break\n",
    "            \n",
    "\n",
    "    return path_count, currentPath"
   ]
  },
  {
   "cell_type": "code",
   "execution_count": 178,
   "metadata": {},
   "outputs": [
    {
     "name": "stdout",
     "output_type": "stream",
     "text": [
      "['n']\n",
      "None\n"
     ]
    },
    {
     "ename": "AttributeError",
     "evalue": "'NoneType' object has no attribute 'append'",
     "output_type": "error",
     "traceback": [
      "\u001b[1;31m---------------------------------------------------------------------------\u001b[0m",
      "\u001b[1;31mAttributeError\u001b[0m                            Traceback (most recent call last)",
      "\u001b[1;32mc:\\Users\\User\\Desktop\\Data_structure_practices\\week7_graph_algorithm\\graph_basics.ipynb Cell 56\u001b[0m in \u001b[0;36m<cell line: 1>\u001b[1;34m()\u001b[0m\n\u001b[1;32m----> <a href='vscode-notebook-cell:/c%3A/Users/User/Desktop/Data_structure_practices/week7_graph_algorithm/graph_basics.ipynb#Y106sZmlsZQ%3D%3D?line=0'>1</a>\u001b[0m \u001b[39mprint\u001b[39m(shortest_path(graph2, \u001b[39m'\u001b[39;49m\u001b[39mn\u001b[39;49m\u001b[39m'\u001b[39;49m, \u001b[39m'\u001b[39;49m\u001b[39mj\u001b[39;49m\u001b[39m'\u001b[39;49m))\n",
      "\u001b[1;32mc:\\Users\\User\\Desktop\\Data_structure_practices\\week7_graph_algorithm\\graph_basics.ipynb Cell 56\u001b[0m in \u001b[0;36mshortest_path\u001b[1;34m(graph, src_node, end_node)\u001b[0m\n\u001b[0;32m     <a href='vscode-notebook-cell:/c%3A/Users/User/Desktop/Data_structure_practices/week7_graph_algorithm/graph_basics.ipynb#Y106sZmlsZQ%3D%3D?line=34'>35</a>\u001b[0m \u001b[39mif\u001b[39;00m neighbor \u001b[39mnot\u001b[39;00m \u001b[39min\u001b[39;00m visited:\n\u001b[0;32m     <a href='vscode-notebook-cell:/c%3A/Users/User/Desktop/Data_structure_practices/week7_graph_algorithm/graph_basics.ipynb#Y106sZmlsZQ%3D%3D?line=35'>36</a>\u001b[0m     new_count \u001b[39m=\u001b[39m path_count \u001b[39m+\u001b[39m \u001b[39m1\u001b[39m\n\u001b[1;32m---> <a href='vscode-notebook-cell:/c%3A/Users/User/Desktop/Data_structure_practices/week7_graph_algorithm/graph_basics.ipynb#Y106sZmlsZQ%3D%3D?line=36'>37</a>\u001b[0m     new_path  \u001b[39m=\u001b[39m currentPath\u001b[39m.\u001b[39;49mappend(neighbor)\n\u001b[0;32m     <a href='vscode-notebook-cell:/c%3A/Users/User/Desktop/Data_structure_practices/week7_graph_algorithm/graph_basics.ipynb#Y106sZmlsZQ%3D%3D?line=37'>38</a>\u001b[0m     q_path\u001b[39m.\u001b[39menqueue(new_path)\n\u001b[0;32m     <a href='vscode-notebook-cell:/c%3A/Users/User/Desktop/Data_structure_practices/week7_graph_algorithm/graph_basics.ipynb#Y106sZmlsZQ%3D%3D?line=38'>39</a>\u001b[0m     q_int\u001b[39m.\u001b[39menqueue(new_count)\n",
      "\u001b[1;31mAttributeError\u001b[0m: 'NoneType' object has no attribute 'append'"
     ]
    }
   ],
   "source": [
    "print(shortest_path(graph2, 'n', 'j'))"
   ]
  }
 ],
 "metadata": {
  "kernelspec": {
   "display_name": "Python 3",
   "language": "python",
   "name": "python3"
  },
  "language_info": {
   "codemirror_mode": {
    "name": "ipython",
    "version": 3
   },
   "file_extension": ".py",
   "mimetype": "text/x-python",
   "name": "python",
   "nbconvert_exporter": "python",
   "pygments_lexer": "ipython3",
   "version": "3.9.12"
  },
  "orig_nbformat": 4
 },
 "nbformat": 4,
 "nbformat_minor": 2
}
