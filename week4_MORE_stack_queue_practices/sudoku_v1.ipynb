{
 "cells": [
  {
   "attachments": {},
   "cell_type": "markdown",
   "metadata": {},
   "source": [
    "## Initilializing board"
   ]
  },
  {
   "cell_type": "code",
   "execution_count": 159,
   "metadata": {},
   "outputs": [
    {
     "data": {
      "text/plain": [
       "[[0, 0, 0, 0, 0, 0, 0, 0, 0],\n",
       " [0, 0, 0, 0, 0, 0, 0, 0, 0],\n",
       " [0, 0, 0, 0, 0, 0, 0, 0, 0],\n",
       " [0, 0, 0, 0, 0, 0, 0, 0, 0],\n",
       " [0, 0, 0, 0, 0, 0, 0, 0, 0],\n",
       " [0, 0, 0, 0, 0, 0, 0, 0, 0],\n",
       " [0, 0, 0, 0, 0, 0, 0, 0, 0],\n",
       " [0, 0, 0, 0, 0, 0, 0, 0, 0],\n",
       " [0, 0, 0, 0, 0, 0, 0, 0, 0]]"
      ]
     },
     "execution_count": 159,
     "metadata": {},
     "output_type": "execute_result"
    }
   ],
   "source": [
    "# Create an empty board\n",
    "BOARD_SIZE = 9\n",
    "board = []\n",
    "\n",
    "for i in range(BOARD_SIZE):\n",
    "    board.append([])\n",
    "    for _ in range(BOARD_SIZE):\n",
    "        board[i].append(0)\n",
    "\n",
    "board"
   ]
  },
  {
   "attachments": {},
   "cell_type": "markdown",
   "metadata": {},
   "source": [
    "## Creating sets of {1~9}"
   ]
  },
  {
   "cell_type": "code",
   "execution_count": 160,
   "metadata": {},
   "outputs": [],
   "source": [
    "def create_set():\n",
    "    valid = set()\n",
    "    for e in range(1,10):\n",
    "        valid.add(e)\n",
    "    \n",
    "    return valid"
   ]
  },
  {
   "attachments": {},
   "cell_type": "markdown",
   "metadata": {},
   "source": [
    "## Filling up diagonal sectors"
   ]
  },
  {
   "cell_type": "code",
   "execution_count": 161,
   "metadata": {},
   "outputs": [],
   "source": [
    "import random\n",
    "# Setting random seed for\n",
    "random.seed(123)\n",
    "# Fill up the diagonal sectors\n",
    "diagonal_sectors = [[0,3,0,3],\n",
    "                    [3,6,3,6],\n",
    "                    [6,9,6,9]]\n",
    "\n",
    "for sectors in diagonal_sectors:\n",
    "    # Create a unique set with possible value for each sector\n",
    "    valid = create_set()\n",
    "    for x in range(sectors[0],sectors[1]):\n",
    "        for y in range(sectors[2],sectors[3]):           \n",
    "            # Randomly select a valid element out of the set\n",
    "            rand_e = random.choice(list(valid))\n",
    "            valid.remove(rand_e)\n",
    "            \n",
    "            # Fill the coordinate with the value selected\n",
    "            board[x][y] = rand_e\n",
    "        \n",
    "\n"
   ]
  },
  {
   "attachments": {},
   "cell_type": "markdown",
   "metadata": {},
   "source": [
    "# Solve Sudoku(Brute Force)"
   ]
  },
  {
   "attachments": {},
   "cell_type": "markdown",
   "metadata": {},
   "source": [
    "## Select next cell"
   ]
  },
  {
   "cell_type": "code",
   "execution_count": 162,
   "metadata": {},
   "outputs": [
    {
     "data": {
      "text/plain": [
       "(0, 3)"
      ]
     },
     "execution_count": 162,
     "metadata": {},
     "output_type": "execute_result"
    }
   ],
   "source": [
    "next_cell_x = 0\n",
    "next_cell_y = 0\n",
    "for x in range(BOARD_SIZE):\n",
    "    for y in range(BOARD_SIZE):\n",
    "        # print(f\"({i},{j})\")\n",
    "        if board[x][y] == 0:\n",
    "            next_cell_x = x\n",
    "            next_cell_y = y\n",
    "            break\n",
    "    else:\n",
    "        continue # This continues the loop if break is not indicated.\n",
    "    break\n",
    "\n",
    "next_cell_x,next_cell_y"
   ]
  },
  {
   "cell_type": "code",
   "execution_count": 163,
   "metadata": {},
   "outputs": [],
   "source": [
    "# Make it into a function\n",
    "def SelectNextCell(board):\n",
    "    for x in range(BOARD_SIZE):\n",
    "        for y in range(BOARD_SIZE):\n",
    "            # print(f\"({i},{j})\")\n",
    "            if board[x][y] == 0:\n",
    "                return x,y\n",
    "    return -1,-1"
   ]
  },
  {
   "cell_type": "code",
   "execution_count": 164,
   "metadata": {},
   "outputs": [
    {
     "data": {
      "text/plain": [
       "(0, 3)"
      ]
     },
     "execution_count": 164,
     "metadata": {},
     "output_type": "execute_result"
    }
   ],
   "source": [
    "next_cell_x,next_cell_y = SelectNextCell(board)\n",
    "\n",
    "next_cell_x,next_cell_y"
   ]
  },
  {
   "attachments": {},
   "cell_type": "markdown",
   "metadata": {},
   "source": [
    "# Selecting possxble values for thxs cell"
   ]
  },
  {
   "attachments": {},
   "cell_type": "markdown",
   "metadata": {},
   "source": [
    "### Check Valid"
   ]
  },
  {
   "cell_type": "code",
   "execution_count": 165,
   "metadata": {},
   "outputs": [
    {
     "data": {
      "text/plain": [
       "((0, 3),\n",
       " [[1, 6, 2, 0, 0, 0, 0, 0, 0],\n",
       "  [7, 5, 3, 0, 0, 0, 0, 0, 0],\n",
       "  [4, 9, 8, 0, 0, 0, 0, 0, 0],\n",
       "  [0, 0, 0, 6, 1, 3, 0, 0, 0],\n",
       "  [0, 0, 0, 4, 7, 8, 0, 0, 0],\n",
       "  [0, 0, 0, 9, 2, 5, 0, 0, 0],\n",
       "  [0, 0, 0, 0, 0, 0, 1, 8, 9],\n",
       "  [0, 0, 0, 0, 0, 0, 2, 7, 6],\n",
       "  [0, 0, 0, 0, 0, 0, 3, 4, 5]],\n",
       " {4, 6, 9},\n",
       " {1, 2, 6},\n",
       " set())"
      ]
     },
     "execution_count": 165,
     "metadata": {},
     "output_type": "execute_result"
    }
   ],
   "source": [
    "# Create empty valid sets for col,row,sectors\n",
    "colv = set()\n",
    "rowv = set()\n",
    "sectorv = set()    \n",
    "\n",
    "# Set cell(x,y,value)\n",
    "cell_x = next_cell_x\n",
    "cell_y = next_cell_y\n",
    "cell_value = board[cell_x][cell_y]\n",
    "\n",
    "# For a certain cell(i,j,value)\n",
    "# Start gathering values for row,col,sectors\n",
    "# row\n",
    "for x in range(BOARD_SIZE):\n",
    "    if board[x][cell_y] != 0:\n",
    "        rowv.add(board[x][cell_y])\n",
    "# col\n",
    "for y in range(BOARD_SIZE):\n",
    "    if board[cell_x][y] != 0:\n",
    "        colv.add(board[cell_x][y])\n",
    "\n",
    "# sector\n",
    "## First find the head of the sector\n",
    "## From the head of the sector, traverse every element of that sector\n",
    "head_x = (cell_x//3) *3\n",
    "head_y = (cell_y//3) *3\n",
    "for x in range(head_x,head_x+3):\n",
    "    for j in range(head_y,head_y+3):\n",
    "        if board[x][y] != 0:\n",
    "            sectorv.add(board[x][y])\n",
    "\n",
    "(cell_x,cell_y),board,rowv,colv,sectorv"
   ]
  },
  {
   "cell_type": "code",
   "execution_count": 166,
   "metadata": {},
   "outputs": [
    {
     "data": {
      "text/plain": [
       "True"
      ]
     },
     "execution_count": 166,
     "metadata": {},
     "output_type": "execute_result"
    }
   ],
   "source": [
    "# Start checking\n",
    "flag = False\n",
    "if cell_value not in colv:# Check columns\n",
    "    if cell_value not in rowv:\n",
    "        if cell_value not in sectors:\n",
    "            flag = True\n",
    "\n",
    "flag"
   ]
  },
  {
   "cell_type": "code",
   "execution_count": 167,
   "metadata": {},
   "outputs": [],
   "source": [
    "def CheckValid(e,next_cell_x,next_cell_y,board):\n",
    "    # Create empty valid sets for col,row,sectors\n",
    "    colv = set()\n",
    "    rowv = set()\n",
    "    sectorv = set()    \n",
    "\n",
    "    # Set cell(x,y,value)\n",
    "    cell_x = next_cell_x\n",
    "    cell_y = next_cell_y\n",
    "\n",
    "    # For a certain cell(i,j,value)\n",
    "    # Start gathering values for row,col,sectors\n",
    "    # row\n",
    "    for x in range(BOARD_SIZE):\n",
    "        if board[x][cell_y] != 0:\n",
    "            rowv.add(board[x][cell_y])\n",
    "    # col\n",
    "    for y in range(BOARD_SIZE):\n",
    "        if board[cell_x][y] != 0:\n",
    "            colv.add(board[cell_x][y])\n",
    "\n",
    "    # sector\n",
    "    ## First find the head of the sector\n",
    "    ## From the head of the sector, traverse every element of that sector\n",
    "    head_x = (cell_x//3) *3\n",
    "    head_y = (cell_y//3) *3\n",
    "    for x in range(head_x,head_x+3):\n",
    "        for y in range(head_y,head_y+3):\n",
    "            if board[x][y] != 0:\n",
    "                sectorv.add(board[x][y])\n",
    "    \n",
    "    # print(\"colv\")\n",
    "    # print(colv)\n",
    "    # print(\"rowv\")\n",
    "    # print(rowv)\n",
    "    # print(\"sectorv\")\n",
    "    # print(sectorv)\n",
    "     \n",
    "    # Start checking\n",
    "    if (e not in rowv) and (e not in colv) and (e not in sectorv):\n",
    "        return True\n",
    "    \n",
    "    return False"
   ]
  },
  {
   "cell_type": "code",
   "execution_count": 168,
   "metadata": {},
   "outputs": [
    {
     "name": "stdout",
     "output_type": "stream",
     "text": [
      "i=0\n",
      "True\n",
      "i=1\n",
      "False\n",
      "i=2\n",
      "False\n",
      "i=3\n",
      "False\n",
      "i=4\n",
      "False\n",
      "i=5\n",
      "False\n",
      "i=6\n",
      "False\n",
      "i=7\n",
      "False\n",
      "i=8\n",
      "False\n",
      "i=9\n",
      "False\n"
     ]
    },
    {
     "data": {
      "text/plain": [
       "[[1, 6, 2, 0, 0, 0, 0, 0, 0],\n",
       " [7, 5, 3, 0, 0, 0, 0, 0, 0],\n",
       " [4, 9, 8, 0, 0, 0, 0, 0, 0],\n",
       " [0, 0, 0, 6, 1, 3, 0, 0, 0],\n",
       " [0, 0, 0, 4, 7, 8, 0, 0, 0],\n",
       " [0, 0, 0, 9, 2, 5, 0, 0, 0],\n",
       " [0, 0, 0, 0, 0, 0, 1, 8, 9],\n",
       " [0, 0, 0, 0, 0, 0, 2, 7, 6],\n",
       " [0, 0, 0, 0, 0, 0, 3, 4, 5]]"
      ]
     },
     "execution_count": 168,
     "metadata": {},
     "output_type": "execute_result"
    }
   ],
   "source": [
    "for i in range(0,10):\n",
    "    print(f\"i={i}\")\n",
    "    print(CheckValid(i,3,3,board))\n",
    "\n",
    "\n",
    "board"
   ]
  },
  {
   "attachments": {},
   "cell_type": "markdown",
   "metadata": {},
   "source": [
    "## Start plugging in values to solve Sudoku"
   ]
  },
  {
   "cell_type": "code",
   "execution_count": 169,
   "metadata": {},
   "outputs": [
    {
     "data": {
      "text/plain": [
       "[[1, 6, 2, 0, 0, 0, 0, 0, 0],\n",
       " [7, 5, 3, 0, 0, 0, 0, 0, 0],\n",
       " [4, 9, 8, 0, 0, 0, 0, 0, 0],\n",
       " [0, 0, 0, 6, 1, 3, 0, 0, 0],\n",
       " [0, 0, 0, 4, 7, 8, 0, 0, 0],\n",
       " [0, 0, 0, 9, 2, 5, 0, 0, 0],\n",
       " [0, 0, 0, 0, 0, 0, 1, 8, 9],\n",
       " [0, 0, 0, 0, 0, 0, 2, 7, 6],\n",
       " [0, 0, 0, 0, 0, 0, 3, 4, 5]]"
      ]
     },
     "execution_count": 169,
     "metadata": {},
     "output_type": "execute_result"
    }
   ],
   "source": [
    "board"
   ]
  },
  {
   "cell_type": "code",
   "execution_count": 170,
   "metadata": {},
   "outputs": [
    {
     "name": "stdout",
     "output_type": "stream",
     "text": [
      "Board\n"
     ]
    },
    {
     "data": {
      "text/plain": [
       "[[1, 6, 2, 8, 9, 7, 5, 3, 4],\n",
       " [7, 5, 3, 2, 6, 4, 9, 1, 8],\n",
       " [4, 9, 8, 5, 3, 1, 7, 6, 2],\n",
       " [9, 8, 7, 6, 1, 3, 4, 5, 0],\n",
       " [6, 3, 5, 4, 7, 8, 0, 9, 1],\n",
       " [0, 4, 1, 9, 2, 5, 8, 0, 7],\n",
       " [5, 7, 6, 3, 4, 2, 1, 8, 9],\n",
       " [8, 1, 9, 0, 5, 0, 2, 7, 6],\n",
       " [2, 0, 0, 7, 8, 9, 3, 4, 5]]"
      ]
     },
     "execution_count": 170,
     "metadata": {},
     "output_type": "execute_result"
    }
   ],
   "source": [
    "# Trying without backtracking\n",
    "# First define the sectors needed to fill up\n",
    "import copy\n",
    "sector_to_fill = [[0,3,3,6],\n",
    "                  [0,3,6,9],\n",
    "                  [3,6,0,3],\n",
    "                  [6,9,0,3],\n",
    "                  [6,9,3,6],\n",
    "                  [3,6,6,9]]\n",
    "board_2 = copy.deepcopy(board)\n",
    "# Start traversing each sectors\n",
    "for sectors in sector_to_fill:\n",
    "    for x in range(sectors[0],sectors[1]):\n",
    "        for y in range(sectors[2],sectors[3]):\n",
    "            for e in range(1,10):\n",
    "                # Try possible values\n",
    "                if CheckValid(e,x,y,board):\n",
    "                    board[x][y] = e\n",
    "\n",
    "# Notice we are not able to generate a valid board by brute force, must solve it using backTracking.\n",
    "# Invalid boards can be generated using this method.\n",
    "print(\"Board\")\n",
    "board"
   ]
  },
  {
   "cell_type": "code",
   "execution_count": 171,
   "metadata": {},
   "outputs": [
    {
     "name": "stdout",
     "output_type": "stream",
     "text": [
      "Board 2\n"
     ]
    },
    {
     "data": {
      "text/plain": [
       "[[1, 6, 2, 0, 0, 0, 0, 0, 0],\n",
       " [7, 5, 3, 0, 0, 0, 0, 0, 0],\n",
       " [4, 9, 8, 0, 0, 0, 0, 0, 0],\n",
       " [0, 0, 0, 6, 1, 3, 0, 0, 0],\n",
       " [0, 0, 0, 4, 7, 8, 0, 0, 0],\n",
       " [0, 0, 0, 9, 2, 5, 0, 0, 0],\n",
       " [0, 0, 0, 0, 0, 0, 1, 8, 9],\n",
       " [0, 0, 0, 0, 0, 0, 2, 7, 6],\n",
       " [0, 0, 0, 0, 0, 0, 3, 4, 5]]"
      ]
     },
     "execution_count": 171,
     "metadata": {},
     "output_type": "execute_result"
    }
   ],
   "source": [
    "print(\"Board 2\")\n",
    "board_2"
   ]
  },
  {
   "attachments": {},
   "cell_type": "markdown",
   "metadata": {},
   "source": [
    "## printSudoku"
   ]
  },
  {
   "cell_type": "code",
   "execution_count": 172,
   "metadata": {},
   "outputs": [
    {
     "name": "stdout",
     "output_type": "stream",
     "text": [
      "[1, 6, 2, 8, 9, 7, 5, 3, 4]\n",
      "[7, 5, 3, 2, 6, 4, 9, 1, 8]\n",
      "[4, 9, 8, 5, 3, 1, 7, 6, 2]\n",
      "[9, 8, 7, 6, 1, 3, 4, 5, 0]\n",
      "[6, 3, 5, 4, 7, 8, 0, 9, 1]\n",
      "[0, 4, 1, 9, 2, 5, 8, 0, 7]\n",
      "[5, 7, 6, 3, 4, 2, 1, 8, 9]\n",
      "[8, 1, 9, 0, 5, 0, 2, 7, 6]\n",
      "[2, 0, 0, 7, 8, 9, 3, 4, 5]\n"
     ]
    }
   ],
   "source": [
    "def printSudoku(board):\n",
    "    for e in board:\n",
    "        print(e)\n",
    "\n",
    "printSudoku(board)"
   ]
  },
  {
   "cell_type": "code",
   "execution_count": 173,
   "metadata": {},
   "outputs": [
    {
     "name": "stdout",
     "output_type": "stream",
     "text": [
      "[0, 0, 0, 0, 0, 0, 0, 0, 0, 0]\n"
     ]
    }
   ],
   "source": [
    "# Create an invalid board\n",
    "BOARD_SIZE = 9\n",
    "NUM = 9\n",
    "valid_board = []\n",
    "\n",
    "for i in range(BOARD_SIZE):\n",
    "    valid_board.append([])\n",
    "    for j in range(BOARD_SIZE):\n",
    "        valid_board[i].append([])\n",
    "        for k in range(10):\n",
    "            valid_board[i][j].append(0)\n",
    "            \n",
    "\n",
    "\n",
    "valid_board[0][0][1]\n",
    "print(valid_board[0][0])"
   ]
  },
  {
   "attachments": {},
   "cell_type": "markdown",
   "metadata": {},
   "source": [
    "# Solve Sudoku using backtracking Stack"
   ]
  },
  {
   "cell_type": "code",
   "execution_count": 174,
   "metadata": {},
   "outputs": [
    {
     "name": "stdout",
     "output_type": "stream",
     "text": [
      "Board Solved\n",
      "[1, 6, 2, 3, 4, 7, 5, 9, 8]\n",
      "[7, 5, 3, 1, 8, 9, 4, 6, 2]\n",
      "[4, 9, 8, 2, 5, 6, 7, 1, 3]\n",
      "[2, 4, 9, 6, 1, 3, 8, 5, 7]\n",
      "[5, 3, 6, 4, 7, 8, 9, 2, 1]\n",
      "[8, 1, 7, 9, 2, 5, 6, 3, 4]\n",
      "[3, 2, 5, 7, 6, 4, 1, 8, 9]\n",
      "[9, 8, 4, 5, 3, 1, 2, 7, 6]\n",
      "[6, 7, 1, 8, 9, 2, 3, 4, 5]\n"
     ]
    }
   ],
   "source": [
    "board = board_2\n",
    "solved = 0\n",
    "#Initialise a stack\n",
    "stack = []\n",
    "\n",
    "#Support stack for writing values\n",
    "stack_value_to_insert = []\n",
    "\n",
    "k = 3\n",
    "\n",
    "# Find the first position for me to solve\n",
    "x,y = SelectNextCell(board)\n",
    "# print([x,y])\n",
    "# \n",
    "# print(\"Valid board:\")\n",
    "# print(valid_board[x][y])\n",
    "\n",
    "#First put the possible value from largest to smallest into the stack first\n",
    "for e in range(9,0,-1):\n",
    "    if CheckValid(e,x,y,board):\n",
    "        # print(\"Valid\")\n",
    "        entry = [x,y,e]\n",
    "        stack.append(entry)\n",
    "\n",
    "#While I still have more possible location to try in stack, do\n",
    "while stack != []:\n",
    "    # print(stack)\n",
    "    # Take an element out from the stack\n",
    "    x,y,e = stack.pop()\n",
    "    \n",
    "    # If the value to try is 0, clear the tried valid, and plug in zero for that entry\n",
    "    if e == 0:\n",
    "        # Set the \n",
    "        for k in range(NUM+1):\n",
    "            valid_board[x][y][k] = 0\n",
    "        \n",
    "        board[x][y] = 0\n",
    "    else:\n",
    "        # Insert this element into the sudoku board\n",
    "        board[x][y] = e\n",
    "\n",
    "        #Select NextCell to solve.\n",
    "        x,y = SelectNextCell(board)\n",
    "        # If no more cell to select, I have solve it successfully\n",
    "        if x == -1 and y == -1:\n",
    "            solved = 1\n",
    "            print(\"Board Solved\")\n",
    "            printSudoku(board)\n",
    "            break\n",
    "\n",
    "        #Must also check if this value has been tried or not\n",
    "        #Get possible value for this cell & put them into the value_to_insert stack\n",
    "        #First put the possible value from largest to smallest into the stack first\n",
    "        for e in range(1,10):\n",
    "            if CheckValid(e,x,y,board) and valid_board[x][y][e] == 0:\n",
    "                entry = [x,y,e]\n",
    "                valid_board[x][y][e] = 1\n",
    "                stack_value_to_insert.append(entry)\n",
    "    \n",
    "        # print(\"stack value to insert\")\n",
    "        # print(stack_value_to_insert)\n",
    "        \n",
    "        #From this selected cell\n",
    "        #Insert a zero first to restore damage from failure try\n",
    "        #Only do so when there is value for me to try\n",
    "        if stack_value_to_insert != []:\n",
    "            entry = [x,y,0]\n",
    "            stack.append(entry)\n",
    "        \n",
    "        # Move the value to insert into the program stack\n",
    "        while stack_value_to_insert != []:\n",
    "            entry = stack_value_to_insert.pop()\n",
    "            stack.append(entry)\n",
    "    \n",
    "    # print(\"Current Sudoku Board\")\n",
    "    # printSudoku(board)\n",
    "    # print(\"Current Valid board\")\n",
    "    # printSudoku(valid_board)\n",
    "    \n",
    "    \n",
    "if solved == 0:\n",
    "    # Since I have tried all possibility, this board is not solvable.\n",
    "    print(\"Board is not solvable!\")\n",
    "\n",
    "# print(\"Current Sudoku Board\")\n",
    "# printSudoku(board)\n",
    "    "
   ]
  },
  {
   "attachments": {},
   "cell_type": "markdown",
   "metadata": {},
   "source": [
    "## Solve Sudoku using backtracking"
   ]
  },
  {
   "cell_type": "code",
   "execution_count": 656,
   "metadata": {},
   "outputs": [],
   "source": [
    "def SolveSudoku(board,x=0,y=0):\n",
    "    x,y = SelectNextCell(board)\n",
    "    if x== -1 and y== -1:\n",
    "        return True\n",
    "        \n",
    "    for e in range(1,10):\n",
    "        if CheckValid(e,x,y,board):\n",
    "            board[x][y] = e\n",
    "            if SolveSudoku(board,x,y):\n",
    "                return True\n",
    "\n",
    "            # Cleaning up what I have done\n",
    "            board[x][y] = 0\n",
    "    # print(\"-------------------------\")\n",
    "    # printSudoku(board)\n",
    "        \n",
    "    return False"
   ]
  },
  {
   "cell_type": "code",
   "execution_count": 657,
   "metadata": {},
   "outputs": [
    {
     "data": {
      "text/plain": [
       "[[1, 6, 2, 3, 4, 7, 5, 9, 8],\n",
       " [7, 5, 3, 1, 8, 9, 4, 6, 2],\n",
       " [4, 9, 8, 2, 5, 6, 7, 1, 3],\n",
       " [2, 4, 9, 6, 1, 3, 8, 5, 7],\n",
       " [5, 3, 6, 4, 7, 8, 9, 2, 1],\n",
       " [8, 1, 7, 9, 2, 5, 6, 3, 4],\n",
       " [3, 2, 5, 7, 6, 4, 1, 8, 9],\n",
       " [9, 8, 4, 5, 3, 1, 2, 7, 6],\n",
       " [6, 7, 1, 8, 9, 2, 3, 4, 5]]"
      ]
     },
     "execution_count": 657,
     "metadata": {},
     "output_type": "execute_result"
    }
   ],
   "source": [
    "flag = SolveSudoku(board_2,0,0)\n",
    "board_2"
   ]
  },
  {
   "cell_type": "code",
   "execution_count": 658,
   "metadata": {},
   "outputs": [
    {
     "data": {
      "text/plain": [
       "[[1, 6, 2, 3, 4, 7, 5, 9, 8],\n",
       " [7, 5, 3, 1, 8, 9, 4, 6, 2],\n",
       " [4, 9, 8, 2, 5, 6, 7, 1, 3],\n",
       " [2, 4, 9, 6, 1, 3, 8, 5, 7],\n",
       " [5, 3, 6, 4, 7, 8, 9, 2, 1],\n",
       " [8, 1, 7, 9, 2, 5, 6, 3, 4],\n",
       " [3, 2, 5, 7, 6, 4, 1, 8, 9],\n",
       " [9, 8, 4, 5, 3, 1, 2, 7, 6],\n",
       " [6, 7, 1, 8, 9, 2, 3, 4, 5]]"
      ]
     },
     "execution_count": 658,
     "metadata": {},
     "output_type": "execute_result"
    }
   ],
   "source": [
    "board_2"
   ]
  },
  {
   "attachments": {},
   "cell_type": "markdown",
   "metadata": {},
   "source": [
    "## Randomly removing cell from Board"
   ]
  },
  {
   "cell_type": "code",
   "execution_count": 659,
   "metadata": {},
   "outputs": [
    {
     "data": {
      "text/plain": [
       "[[1, 6, 2, 3, 4, 7, 5, 9, 8],\n",
       " [7, 5, 0, 0, 8, 0, 4, 0, 2],\n",
       " [4, 9, 8, 2, 5, 6, 7, 1, 0],\n",
       " [2, 4, 9, 0, 1, 3, 8, 5, 7],\n",
       " [5, 3, 0, 4, 7, 8, 0, 2, 1],\n",
       " [8, 1, 7, 0, 2, 5, 6, 3, 0],\n",
       " [3, 0, 5, 7, 0, 4, 0, 8, 0],\n",
       " [9, 0, 0, 5, 3, 1, 0, 7, 0],\n",
       " [6, 7, 0, 8, 9, 2, 3, 0, 5]]"
      ]
     },
     "execution_count": 659,
     "metadata": {},
     "output_type": "execute_result"
    }
   ],
   "source": [
    "# Removing 24 cells from the board\n",
    "NUM = 24\n",
    "for _ in range(NUM):\n",
    "    rand_x = random.randint(1,8)\n",
    "    rand_y = random.randint(1,8)\n",
    "    if board_2[rand_x][rand_y] != 0:\n",
    "        board_2[rand_x][rand_y] = 0\n",
    "        \n",
    "\n",
    "board_removed = copy.deepcopy(board_2)\n",
    "board_removed\n"
   ]
  },
  {
   "cell_type": "code",
   "execution_count": 660,
   "metadata": {},
   "outputs": [
    {
     "data": {
      "text/plain": [
       "[[1, 6, 2, 3, 4, 7, 5, 9, 8],\n",
       " [7, 5, 3, 1, 8, 9, 4, 6, 2],\n",
       " [4, 9, 8, 2, 5, 6, 7, 1, 3],\n",
       " [2, 4, 9, 6, 1, 3, 8, 5, 7],\n",
       " [5, 3, 6, 4, 7, 8, 9, 2, 1],\n",
       " [8, 1, 7, 9, 2, 5, 6, 3, 4],\n",
       " [3, 2, 5, 7, 6, 4, 1, 8, 9],\n",
       " [9, 8, 4, 5, 3, 1, 2, 7, 6],\n",
       " [6, 7, 1, 8, 9, 2, 3, 4, 5]]"
      ]
     },
     "execution_count": 660,
     "metadata": {},
     "output_type": "execute_result"
    }
   ],
   "source": [
    "SolveSudoku(board_removed)\n",
    "board_removed"
   ]
  },
  {
   "attachments": {},
   "cell_type": "markdown",
   "metadata": {},
   "source": [
    "# Generating multiple sudoku board"
   ]
  },
  {
   "attachments": {},
   "cell_type": "markdown",
   "metadata": {},
   "source": [
    "### Create Diagonal board"
   ]
  },
  {
   "cell_type": "code",
   "execution_count": 661,
   "metadata": {},
   "outputs": [],
   "source": [
    "def CreateDiagonalBoard():\n",
    "    # Setting random seed for\n",
    "    random.seed()\n",
    "\n",
    "    # Create an empty board\n",
    "    BOARD_SIZE = 9\n",
    "    board = []\n",
    "    \n",
    "    for i in range(BOARD_SIZE):\n",
    "        board.append([])\n",
    "        for _ in range(BOARD_SIZE):\n",
    "            board[i].append(0)\n",
    "    \n",
    "    # Fill up the diagonal sectors\n",
    "    diagonal_sectors = [[0,3,0,3],\n",
    "                        [3,6,3,6],\n",
    "                        [6,9,6,9]]\n",
    "\n",
    "    for sectors in diagonal_sectors:\n",
    "        # Create a unique set with possible value for each sector\n",
    "        # Creating valid set\n",
    "        valid = set()\n",
    "        for e in range(1,10):\n",
    "            valid.add(e)\n",
    "        for x in range(sectors[0],sectors[1]):\n",
    "            for y in range(sectors[2],sectors[3]):           \n",
    "                # Randomly select a valid element out of the set\n",
    "                rand_e = random.choice(list(valid))\n",
    "                valid.remove(rand_e)\n",
    "\n",
    "                # Fill the coordinate with the value selected\n",
    "                board[x][y] = rand_e\n",
    "    \n",
    "    return board\n",
    "    "
   ]
  },
  {
   "cell_type": "code",
   "execution_count": 662,
   "metadata": {},
   "outputs": [
    {
     "data": {
      "text/plain": [
       "[[9, 8, 2, 0, 0, 0, 0, 0, 0],\n",
       " [1, 5, 3, 0, 0, 0, 0, 0, 0],\n",
       " [6, 4, 7, 0, 0, 0, 0, 0, 0],\n",
       " [0, 0, 0, 5, 3, 7, 0, 0, 0],\n",
       " [0, 0, 0, 4, 8, 9, 0, 0, 0],\n",
       " [0, 0, 0, 1, 6, 2, 0, 0, 0],\n",
       " [0, 0, 0, 0, 0, 0, 8, 6, 1],\n",
       " [0, 0, 0, 0, 0, 0, 5, 2, 4],\n",
       " [0, 0, 0, 0, 0, 0, 9, 7, 3]]"
      ]
     },
     "execution_count": 662,
     "metadata": {},
     "output_type": "execute_result"
    }
   ],
   "source": [
    "import random\n",
    "board3 = CreateDiagonalBoard()\n",
    "board3"
   ]
  },
  {
   "attachments": {},
   "cell_type": "markdown",
   "metadata": {},
   "source": [
    "## Removing elements function"
   ]
  },
  {
   "cell_type": "code",
   "execution_count": 663,
   "metadata": {},
   "outputs": [],
   "source": [
    "def RemoveElements(num,board):\n",
    "    while num > 0:\n",
    "        rand_x = random.randint(1,8)\n",
    "        rand_y = random.randint(1,8)\n",
    "        if board[rand_x][rand_y] != 0:\n",
    "            board[rand_x][rand_y] = 0\n",
    "            num = num - 1"
   ]
  },
  {
   "attachments": {},
   "cell_type": "markdown",
   "metadata": {},
   "source": [
    "### Instantiating sudoku class Combining all together"
   ]
  },
  {
   "cell_type": "code",
   "execution_count": 664,
   "metadata": {},
   "outputs": [],
   "source": [
    "\n",
    "def CreateValidSudoku(num):\n",
    "    board = CreateDiagonalBoard()\n",
    "    SolveSudoku(board)\n",
    "    RemoveElements(num,board)\n",
    "    \n",
    "    return board    "
   ]
  },
  {
   "cell_type": "code",
   "execution_count": 665,
   "metadata": {},
   "outputs": [
    {
     "data": {
      "text/plain": [
       "[[4, 7, 9, 1, 2, 5, 6, 3, 8],\n",
       " [5, 0, 1, 3, 8, 7, 2, 0, 9],\n",
       " [3, 0, 2, 4, 6, 9, 5, 1, 7],\n",
       " [1, 0, 4, 7, 5, 8, 9, 0, 3],\n",
       " [8, 0, 5, 6, 9, 0, 0, 2, 1],\n",
       " [6, 9, 7, 0, 1, 3, 4, 8, 0],\n",
       " [2, 0, 3, 8, 7, 6, 1, 0, 0],\n",
       " [7, 4, 6, 9, 0, 0, 0, 0, 2],\n",
       " [9, 0, 8, 5, 0, 0, 3, 7, 6]]"
      ]
     },
     "execution_count": 665,
     "metadata": {},
     "output_type": "execute_result"
    }
   ],
   "source": [
    "board3 = CreateValidSudoku(20)\n",
    "board3"
   ]
  },
  {
   "cell_type": "code",
   "execution_count": 666,
   "metadata": {},
   "outputs": [
    {
     "name": "stdout",
     "output_type": "stream",
     "text": [
      "[4, 9, 3, 1, 2, 5, 7, 6, 8]\n",
      "[1, 0, 6, 0, 8, 7, 4, 0, 5]\n",
      "[8, 0, 7, 6, 4, 0, 1, 0, 2]\n",
      "[2, 0, 4, 5, 9, 8, 3, 0, 0]\n",
      "[3, 8, 9, 0, 6, 0, 5, 0, 0]\n",
      "[5, 6, 1, 0, 7, 3, 8, 2, 9]\n",
      "[7, 0, 5, 9, 1, 6, 2, 8, 3]\n",
      "[9, 3, 8, 0, 5, 2, 0, 0, 1]\n",
      "[6, 1, 2, 8, 3, 0, 9, 5, 0]\n"
     ]
    }
   ],
   "source": [
    "NUM = 4\n",
    "num_of_elements_to_remove = 20\n",
    "valid_board = []\n",
    "for i in range(NUM):\n",
    "    board = CreateValidSudoku(num_of_elements_to_remove)\n",
    "    valid_board.append(board)\n",
    "    \n",
    "printSudoku(valid_board[0])"
   ]
  },
  {
   "cell_type": "code",
   "execution_count": 667,
   "metadata": {},
   "outputs": [
    {
     "data": {
      "text/plain": [
       "([[4, 9, 3, 1, 2, 5, 7, 6, 8],\n",
       "  [1, 0, 6, 0, 8, 7, 4, 0, 5],\n",
       "  [8, 0, 7, 6, 4, 0, 1, 0, 2],\n",
       "  [2, 0, 4, 5, 9, 8, 3, 0, 0],\n",
       "  [3, 8, 9, 0, 6, 0, 5, 0, 0],\n",
       "  [5, 6, 1, 0, 7, 3, 8, 2, 9],\n",
       "  [7, 0, 5, 9, 1, 6, 2, 8, 3],\n",
       "  [9, 3, 8, 0, 5, 2, 0, 0, 1],\n",
       "  [6, 1, 2, 8, 3, 0, 9, 5, 0]],\n",
       " [[5, 7, 3, 1, 2, 8, 4, 9, 6],\n",
       "  [4, 0, 8, 3, 6, 7, 1, 2, 0],\n",
       "  [1, 0, 2, 4, 0, 0, 7, 0, 8],\n",
       "  [2, 1, 5, 8, 3, 4, 9, 6, 0],\n",
       "  [6, 4, 7, 9, 1, 5, 2, 8, 3],\n",
       "  [3, 0, 9, 2, 0, 6, 5, 0, 0],\n",
       "  [8, 0, 1, 0, 0, 2, 6, 5, 0],\n",
       "  [7, 5, 4, 6, 9, 0, 8, 1, 2],\n",
       "  [9, 0, 0, 0, 8, 1, 3, 7, 0]])"
      ]
     },
     "execution_count": 667,
     "metadata": {},
     "output_type": "execute_result"
    }
   ],
   "source": [
    "valid_board[0],valid_board[1]"
   ]
  },
  {
   "attachments": {},
   "cell_type": "markdown",
   "metadata": {},
   "source": [
    "### The solution format needs to be in sequence of numbers to fill in in raster scan order"
   ]
  },
  {
   "cell_type": "code",
   "execution_count": 668,
   "metadata": {},
   "outputs": [
    {
     "data": {
      "text/plain": [
       "[[4, 9, 3, 1, 2, 5, 7, 6, 8],\n",
       " [1, 0, 6, 0, 8, 7, 4, 0, 5],\n",
       " [8, 0, 7, 6, 4, 0, 1, 0, 2],\n",
       " [2, 0, 4, 5, 9, 8, 3, 0, 0],\n",
       " [3, 8, 9, 0, 6, 0, 5, 0, 0],\n",
       " [5, 6, 1, 0, 7, 3, 8, 2, 9],\n",
       " [7, 0, 5, 9, 1, 6, 2, 8, 3],\n",
       " [9, 3, 8, 0, 5, 2, 0, 0, 1],\n",
       " [6, 1, 2, 8, 3, 0, 9, 5, 0]]"
      ]
     },
     "execution_count": 668,
     "metadata": {},
     "output_type": "execute_result"
    }
   ],
   "source": [
    "valid_board[0]"
   ]
  },
  {
   "attachments": {},
   "cell_type": "markdown",
   "metadata": {},
   "source": [
    "### Scan in raster scan order output the location of empty space"
   ]
  },
  {
   "attachments": {},
   "cell_type": "markdown",
   "metadata": {},
   "source": [
    "### Record the location to solve"
   ]
  },
  {
   "cell_type": "code",
   "execution_count": 669,
   "metadata": {},
   "outputs": [
    {
     "data": {
      "text/plain": [
       "[[1, 1], [1, 3], [1, 7]]"
      ]
     },
     "execution_count": 669,
     "metadata": {},
     "output_type": "execute_result"
    }
   ],
   "source": [
    "cur_board = valid_board[0]\n",
    "slot_to_solve = []\n",
    "for i in range(BOARD_SIZE):\n",
    "    for j in range(BOARD_SIZE):\n",
    "        if cur_board[i][j] == 0:\n",
    "            slot_to_solve.append([i,j])\n",
    "\n",
    "slot_to_solve[:3]"
   ]
  },
  {
   "cell_type": "code",
   "execution_count": 670,
   "metadata": {},
   "outputs": [
    {
     "name": "stdout",
     "output_type": "stream",
     "text": [
      "-------Sudoku-------------\n",
      "[4, 9, 3, 1, 2, 5, 7, 6, 8]\n",
      "[1, 0, 6, 0, 8, 7, 4, 0, 5]\n",
      "[8, 0, 7, 6, 4, 0, 1, 0, 2]\n",
      "[2, 0, 4, 5, 9, 8, 3, 0, 0]\n",
      "[3, 8, 9, 0, 6, 0, 5, 0, 0]\n",
      "[5, 6, 1, 0, 7, 3, 8, 2, 9]\n",
      "[7, 0, 5, 9, 1, 6, 2, 8, 3]\n",
      "[9, 3, 8, 0, 5, 2, 0, 0, 1]\n",
      "[6, 1, 2, 8, 3, 0, 9, 5, 0]\n",
      "-------Solved board-------\n",
      "[4, 9, 3, 1, 2, 5, 7, 6, 8]\n",
      "[1, 2, 6, 3, 8, 7, 4, 9, 5]\n",
      "[8, 5, 7, 6, 4, 9, 1, 3, 2]\n",
      "[2, 7, 4, 5, 9, 8, 3, 1, 6]\n",
      "[3, 8, 9, 2, 6, 1, 5, 7, 4]\n",
      "[5, 6, 1, 4, 7, 3, 8, 2, 9]\n",
      "[7, 4, 5, 9, 1, 6, 2, 8, 3]\n",
      "[9, 3, 8, 7, 5, 2, 6, 4, 1]\n",
      "[6, 1, 2, 8, 3, 4, 9, 5, 7]\n"
     ]
    }
   ],
   "source": [
    "solved_board = copy.deepcopy(cur_board)\n",
    "SolveSudoku(solved_board)\n",
    "\n",
    "print(\"-------Sudoku-------------\")\n",
    "printSudoku(cur_board)\n",
    "print(\"-------Solved board-------\")\n",
    "printSudoku(solved_board)"
   ]
  },
  {
   "attachments": {},
   "cell_type": "markdown",
   "metadata": {},
   "source": [
    "### Extract the values out from the prerecorded position"
   ]
  },
  {
   "cell_type": "code",
   "execution_count": 671,
   "metadata": {},
   "outputs": [
    {
     "data": {
      "text/plain": [
       "[2, 3, 9, 5, 9, 3, 7, 1, 6, 2, 1, 7, 4, 4, 4, 7, 6, 4, 4, 7]"
      ]
     },
     "execution_count": 671,
     "metadata": {},
     "output_type": "execute_result"
    }
   ],
   "source": [
    "solution = []\n",
    "for idx in slot_to_solve:\n",
    "    solution.append(solved_board[idx[0]][idx[1]])\n",
    "\n",
    "solution"
   ]
  },
  {
   "cell_type": "code",
   "execution_count": 672,
   "metadata": {},
   "outputs": [],
   "source": [
    "def RecordPlacesToSolve(board):\n",
    "    slot_to_solve = []\n",
    "    for i in range(BOARD_SIZE):\n",
    "        for j in range(BOARD_SIZE):\n",
    "            if board[i][j] == 0:\n",
    "                slot_to_solve.append([i,j])\n",
    "    \n",
    "    return slot_to_solve"
   ]
  },
  {
   "cell_type": "code",
   "execution_count": 673,
   "metadata": {},
   "outputs": [],
   "source": [
    "def GenerateSol(board,slot_to_solve):\n",
    "    solution = []\n",
    "    for idx in slot_to_solve:\n",
    "        solution.append(board[idx[0]][idx[1]])\n",
    "    \n",
    "    return solution"
   ]
  },
  {
   "attachments": {},
   "cell_type": "markdown",
   "metadata": {},
   "source": [
    "## Invalid board generation"
   ]
  },
  {
   "cell_type": "code",
   "execution_count": 674,
   "metadata": {},
   "outputs": [],
   "source": [
    "def SolveInvalid(board):\n",
    "    # Start traversing each sectors\n",
    "    for sectors in sector_to_fill:\n",
    "        for x in range(sectors[0],sectors[1]):\n",
    "            for y in range(sectors[2],sectors[3]):\n",
    "                for e in range(1,10):\n",
    "                    # Try possible values\n",
    "                    if CheckValid(e,x,y,board):\n",
    "                        board[x][y] = e\n",
    "    \n",
    "    return board"
   ]
  },
  {
   "cell_type": "code",
   "execution_count": 675,
   "metadata": {},
   "outputs": [],
   "source": [
    "def InValidBoardGenerator():\n",
    "    board = CreateDiagonalBoard()\n",
    "    SolveInvalid(board)\n",
    "    return board\n",
    "    "
   ]
  },
  {
   "cell_type": "code",
   "execution_count": 676,
   "metadata": {},
   "outputs": [],
   "source": [
    "board_invalid = InValidBoardGenerator()"
   ]
  },
  {
   "cell_type": "code",
   "execution_count": 677,
   "metadata": {},
   "outputs": [
    {
     "data": {
      "text/plain": [
       "False"
      ]
     },
     "execution_count": 677,
     "metadata": {},
     "output_type": "execute_result"
    }
   ],
   "source": [
    "# Solve it to make sure it is unsolvable.\n",
    "SolveSudoku(board_invalid)"
   ]
  },
  {
   "attachments": {},
   "cell_type": "markdown",
   "metadata": {},
   "source": [
    "### Sudoku Generator of board and solution"
   ]
  },
  {
   "cell_type": "code",
   "execution_count": 678,
   "metadata": {},
   "outputs": [],
   "source": [
    "# 0. PreRecord the number of textdata\n",
    "# 1. Generate sudoku board\n",
    "# 2. Record places to solve\n",
    "# 3. Solve it\n",
    "# 4. Generate solution\n",
    "# 5. Write it out as txt\n",
    "\n",
    "# List consist of an unsolved board and its solution [TEST_DATA_NUM,[[unsolved_board],[solution]]]\n",
    "write_out_list = []\n",
    "TEST_DATA_NUM = 300\n",
    "SLOTS_TO_REMOVE = 15\n",
    "\n",
    "write_out_list.append(TEST_DATA_NUM)\n",
    "write_out_list.append([])\n",
    "\n",
    "for _ in range(TEST_DATA_NUM):\n",
    "    board_and_answer = []\n",
    "    \n",
    "    choose_valid_invalid_board = random.randint(0,9)\n",
    "    \n",
    "    if choose_valid_invalid_board <= 3:\n",
    "        board = InValidBoardGenerator()\n",
    "    else:\n",
    "        board = CreateValidSudoku(SLOTS_TO_REMOVE)\n",
    "    \n",
    "    board_and_answer.append(board)\n",
    "    \n",
    "    slot_to_solve = RecordPlacesToSolve(board)\n",
    "    solved_board = copy.deepcopy(board)\n",
    "    \n",
    "    if SolveSudoku(solved_board):\n",
    "        sol = GenerateSol(solved_board,slot_to_solve)\n",
    "    else:\n",
    "        sol = [10]\n",
    "    \n",
    "    board_and_answer.append(sol)\n",
    "    write_out_list[1].append(board_and_answer)\n"
   ]
  },
  {
   "attachments": {},
   "cell_type": "markdown",
   "metadata": {},
   "source": [
    "### Write into txt file"
   ]
  },
  {
   "cell_type": "code",
   "execution_count": 683,
   "metadata": {},
   "outputs": [],
   "source": [
    "f = open(\"./pattern/pattern.txt\",\"w\")\n",
    "\n",
    "def Write_out_pattern(write_out_list,f):\n",
    "    f.write(str(write_out_list[0]))\n",
    "    f.write(\"\\n\\n\")\n",
    "    for pat in write_out_list[1]:\n",
    "        # Print out sudoku board\n",
    "        for rows in pat[0]:\n",
    "            for cell in rows:\n",
    "                f.write(str(cell))\n",
    "                f.write(\" \")\n",
    "\n",
    "            f.write(\"\\n\")\n",
    "        f.write(\"\\n\")\n",
    "\n",
    "        # Print out solution\n",
    "        sol = pat[1]\n",
    "        for ans in sol:\n",
    "            f.write(str(ans))\n",
    "            f.write(\" \")\n",
    "\n",
    "        f.write(\"\\n\\n\")\n",
    "    "
   ]
  },
  {
   "cell_type": "code",
   "execution_count": 684,
   "metadata": {},
   "outputs": [],
   "source": [
    "Write_out_pattern(write_out_list,f)"
   ]
  }
 ],
 "metadata": {
  "kernelspec": {
   "display_name": "base",
   "language": "python",
   "name": "python3"
  },
  "language_info": {
   "codemirror_mode": {
    "name": "ipython",
    "version": 3
   },
   "file_extension": ".py",
   "mimetype": "text/x-python",
   "name": "python",
   "nbconvert_exporter": "python",
   "pygments_lexer": "ipython3",
   "version": "3.9.12"
  },
  "orig_nbformat": 4
 },
 "nbformat": 4,
 "nbformat_minor": 2
}
