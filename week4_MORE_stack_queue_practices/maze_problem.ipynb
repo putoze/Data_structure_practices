{
 "cells": [
  {
   "cell_type": "code",
   "execution_count": 205,
   "metadata": {},
   "outputs": [],
   "source": [
    "import numpy as np\n",
    "\n",
    "class Point:\n",
    "    def __init__(self, x, y):\n",
    "        self.x = x\n",
    "        self.y = y\n",
    "\n",
    "# create an array of integers\n",
    "# input_maze = np.array([[0,0,0],[1,1,0],[0,0,0]])\n",
    "input_maze = np.array([[0,0,1,1,0,0,0,0],\n",
    "                      [1,0,0,0,0,0,1,1],\n",
    "                      [1,1,1,1,1,0,1,1],\n",
    "                      [1,1,1,1,1,0,1,1],\n",
    "                      [1,0,0,0,0,0,1,1],\n",
    "                      [1,0,1,1,1,1,1,1],\n",
    "                      [1,0,0,0,0,0,0,0],\n",
    "                      [1,1,1,1,1,1,1,1]])\n",
    "#input_maze = np.array([[0,0,0,0],[1,0,1,1],[1,0,0,0],[1,1,1,1]])\n",
    "\n",
    "\n",
    "\n",
    "MAXSIZE = 50\n",
    "POSSIBLE_DIR = 8\n",
    "input_maze_size = 8\n",
    "\n",
    "maze = np.zeros((MAXSIZE,MAXSIZE))\n",
    "start_location = Point(0,0)\n",
    "end_location = Point(6,7)\n",
    "\n",
    "# One-Padding maze\n",
    "maze_size = input_maze_size + 2\n",
    "# In python this is concatenation\n",
    "start_location.x = start_location.x + 1\n",
    "start_location.y = start_location.y + 1\n",
    "\n",
    "end_location.x = end_location.x + 1\n",
    "end_location.y = end_location.y + 1\n",
    "\n",
    "for i in range(maze_size):\n",
    "    for j in range(maze_size):\n",
    "        if(i == 0) or (j == 0) or (i == maze_size-1) or (j == maze_size - 1):\n",
    "            maze[i][j] = 1\n",
    "        else:\n",
    "            maze[i][j] = input_maze[i-1][j-1]\n",
    "        \n"
   ]
  },
  {
   "cell_type": "code",
   "execution_count": 206,
   "metadata": {},
   "outputs": [
    {
     "name": "stdout",
     "output_type": "stream",
     "text": [
      "[[1. 1. 1. 1. 1. 1. 1. 1. 1. 1.]\n",
      " [1. 0. 0. 1. 1. 0. 0. 0. 0. 1.]\n",
      " [1. 1. 0. 0. 0. 0. 0. 1. 1. 1.]\n",
      " [1. 1. 1. 1. 1. 1. 0. 1. 1. 1.]\n",
      " [1. 1. 1. 1. 1. 1. 0. 1. 1. 1.]\n",
      " [1. 1. 0. 0. 0. 0. 0. 1. 1. 1.]\n",
      " [1. 1. 0. 1. 1. 1. 1. 1. 1. 1.]\n",
      " [1. 1. 0. 0. 0. 0. 0. 0. 0. 1.]\n",
      " [1. 1. 1. 1. 1. 1. 1. 1. 1. 1.]\n",
      " [1. 1. 1. 1. 1. 1. 1. 1. 1. 1.]]\n",
      "Start:1,1\n",
      "End:7,8\n"
     ]
    }
   ],
   "source": [
    "print(maze[:maze_size,:maze_size])\n",
    "print(f\"Start:{start_location.x},{start_location.y}\")\n",
    "print(f\"End:{end_location.x},{end_location.y}\")"
   ]
  },
  {
   "attachments": {},
   "cell_type": "markdown",
   "metadata": {},
   "source": [
    "# Create a possible_pos table for maze"
   ]
  },
  {
   "cell_type": "code",
   "execution_count": 207,
   "metadata": {},
   "outputs": [],
   "source": [
    "class possible_pos:\n",
    "    NORTH = [-1,0]\n",
    "    NORTH_EAST = [-1,1]\n",
    "    EAST = [0,1]\n",
    "    SOUTH_EAST = [1,1]\n",
    "    SOUTH  = [1,0]\n",
    "    SOUTH_WEST = [1,-1]\n",
    "    WEST = [0,-1]\n",
    "    NORTH_WEST = [-1,-1]"
   ]
  },
  {
   "cell_type": "code",
   "execution_count": 208,
   "metadata": {},
   "outputs": [
    {
     "data": {
      "text/plain": [
       "[0, 1]"
      ]
     },
     "execution_count": 208,
     "metadata": {},
     "output_type": "execute_result"
    }
   ],
   "source": [
    "dir = possible_pos()\n",
    "dir.EAST"
   ]
  },
  {
   "cell_type": "code",
   "execution_count": 209,
   "metadata": {},
   "outputs": [
    {
     "name": "stdout",
     "output_type": "stream",
     "text": [
      "Mark\n",
      "[[1. 1. 1. 1. 1. 1. 1. 1. 1. 1.]\n",
      " [1. 0. 0. 1. 1. 0. 0. 0. 0. 1.]\n",
      " [1. 1. 0. 0. 0. 0. 0. 1. 1. 1.]\n",
      " [1. 1. 1. 1. 1. 1. 0. 1. 1. 1.]\n",
      " [1. 1. 1. 1. 1. 1. 0. 1. 1. 1.]\n",
      " [1. 1. 0. 0. 0. 0. 0. 1. 1. 1.]\n",
      " [1. 1. 0. 1. 1. 1. 1. 1. 1. 1.]\n",
      " [1. 1. 0. 0. 0. 0. 0. 0. 0. 1.]\n",
      " [1. 1. 1. 1. 1. 1. 1. 1. 1. 1.]\n",
      " [1. 1. 1. 1. 1. 1. 1. 1. 1. 1.]]\n",
      "Maze\n",
      "[[1. 1. 1. 1. 1. 1. 1. 1. 1. 1.]\n",
      " [1. 0. 0. 1. 1. 0. 0. 0. 0. 1.]\n",
      " [1. 1. 0. 0. 0. 0. 0. 1. 1. 1.]\n",
      " [1. 1. 1. 1. 1. 1. 0. 1. 1. 1.]\n",
      " [1. 1. 1. 1. 1. 1. 0. 1. 1. 1.]\n",
      " [1. 1. 0. 0. 0. 0. 0. 1. 1. 1.]\n",
      " [1. 1. 0. 1. 1. 1. 1. 1. 1. 1.]\n",
      " [1. 1. 0. 0. 0. 0. 0. 0. 0. 1.]\n",
      " [1. 1. 1. 1. 1. 1. 1. 1. 1. 1.]\n",
      " [1. 1. 1. 1. 1. 1. 1. 1. 1. 1.]]\n",
      "maze(2,2)\n",
      "0.0\n"
     ]
    }
   ],
   "source": [
    "import copy\n",
    "mark = copy.deepcopy(maze)\n",
    "\n",
    "\n",
    "print(\"Mark\")\n",
    "print(mark[:input_maze_size+2,:input_maze_size+2])\n",
    "\n",
    "print(\"Maze\")\n",
    "print(maze[:input_maze_size+2,:input_maze_size+2])\n",
    "print(\"maze(2,2)\")\n",
    "print(maze[2][2])\n"
   ]
  },
  {
   "attachments": {},
   "cell_type": "markdown",
   "metadata": {},
   "source": [
    "# Traversing the maze"
   ]
  },
  {
   "cell_type": "code",
   "execution_count": 210,
   "metadata": {},
   "outputs": [
    {
     "data": {
      "text/plain": [
       "[]"
      ]
     },
     "execution_count": 210,
     "metadata": {},
     "output_type": "execute_result"
    }
   ],
   "source": [
    "# Can simply use a list as a stack in python!\n",
    "# Instatiating a stack\n",
    "stack = []\n",
    "stack == []\n",
    "# stack.append(3)\n",
    "# stack.append(7)\n",
    "# stack\n",
    "# stack == []\n",
    "len(stack)\n",
    "stack"
   ]
  },
  {
   "cell_type": "code",
   "execution_count": 211,
   "metadata": {},
   "outputs": [
    {
     "name": "stdout",
     "output_type": "stream",
     "text": [
      "1\n",
      "1\n",
      "Length of stack:1\n",
      "(1,1)\n"
     ]
    },
    {
     "data": {
      "text/plain": [
       "[<__main__.Point at 0x218111b01f0>]"
      ]
     },
     "execution_count": 211,
     "metadata": {},
     "output_type": "execute_result"
    }
   ],
   "source": [
    "print(start_location.x)\n",
    "print(start_location.y)\n",
    "\n",
    "stack.append(start_location)\n",
    "\n",
    "print(f\"Length of stack:{len(stack)}\")\n",
    "\n",
    "for j in range(len(stack)):\n",
    "    x_pos = stack[j].x\n",
    "    y_pos = stack[j].y\n",
    "    \n",
    "    print(f\"({x_pos},{y_pos})\")\n",
    "# Make sure that there is going to be one single element!\n",
    "# Also you should reset or rerun clearing all blocks whenever you want to run a new block!\n",
    "stack"
   ]
  },
  {
   "cell_type": "code",
   "execution_count": 212,
   "metadata": {},
   "outputs": [
    {
     "name": "stdout",
     "output_type": "stream",
     "text": [
      "End point reached\n"
     ]
    }
   ],
   "source": [
    "POSSIBLE_DIR = 8\n",
    "possible_pos = Point(0,0)\n",
    "mark[start_location.x][start_location.y] = 1\n",
    "maze[start_location.x][start_location.y] = 9\n",
    "x_pos = 0\n",
    "y_pos = 0\n",
    "    \n",
    "while(stack != []):\n",
    "    current_pos = stack.pop()\n",
    "        \n",
    "    pos_x = current_pos.x\n",
    "    pos_y = current_pos.y\n",
    "    attempt = 0\n",
    "    \n",
    "    # print(\"---------------------------\")\n",
    "    # print(\"Maze\")\n",
    "    # print(f\"Current position: ({pos_x},{pos_y})\")\n",
    "    \n",
    "    # Traversing all possible possible_pos\n",
    "    for i in range(POSSIBLE_DIR):\n",
    "        if i == 0:\n",
    "            possible_pos.x = dir.SOUTH[0]\n",
    "            possible_pos.y = dir.SOUTH[1]\n",
    "        elif i == 1:\n",
    "            possible_pos.x = dir.SOUTH_WEST[0]\n",
    "            possible_pos.y = dir.SOUTH_WEST[1]\n",
    "        elif i == 2:\n",
    "            possible_pos.x = dir.WEST[0]\n",
    "            possible_pos.y = dir.WEST[1]\n",
    "        elif i == 3:\n",
    "            possible_pos.x = dir.NORTH_WEST[0]\n",
    "            possible_pos.y = dir.NORTH_WEST[1]\n",
    "        elif i == 4:\n",
    "            possible_pos.x = dir.NORTH[0]\n",
    "            possible_pos.y = dir.NORTH[1]\n",
    "        elif i == 5:\n",
    "            possible_pos.x = dir.NORTH_EAST[0]\n",
    "            possible_pos.y = dir.NORTH_EAST[1]\n",
    "        elif i == 6:\n",
    "            possible_pos.x = dir.EAST[0]\n",
    "            possible_pos.y = dir.EAST[1]\n",
    "        elif i == 7:\n",
    "            possible_pos.x = dir.SOUTH_EAST[0]\n",
    "            possible_pos.y = dir.SOUTH_EAST[1]\n",
    "        \n",
    "        possible_pos.x = pos_x + possible_pos.x\n",
    "        possible_pos.y = pos_y + possible_pos.y\n",
    "        \n",
    "        if(possible_pos.x == end_location.x and \\\n",
    "            possible_pos.y == end_location.y):\n",
    "            print(\"End point reached\")\n",
    "            mark[possible_pos.x][possible_pos.y] = 1\n",
    "            maze[possible_pos.x][possible_pos.y] = 9\n",
    "            break\n",
    "        \n",
    "        # Push the next possible route into stack\n",
    "        if(mark[possible_pos.x][possible_pos.y] != 1 and \\\n",
    "           maze[possible_pos.x][possible_pos.y] != 1):\n",
    "            mark[possible_pos.x][possible_pos.y] = 1\n",
    "            maze[possible_pos.x][possible_pos.y] = 9\n",
    "            current_pos = possible_pos \n",
    "            stack.append(copy.deepcopy(possible_pos))\n",
    "        else:\n",
    "            attempt += 1\n",
    "            \n",
    "    if attempt == POSSIBLE_DIR:\n",
    "        maze[current_pos.x][current_pos.y] = 0\n",
    "                    \n",
    "    # print(\"---------------------------\")\n",
    "    # print(\"Maze\")\n",
    "    # print(maze[:maze_size,:maze_size])\n",
    "    # print(\"Mark\")\n",
    "    # print(mark[:maze_size,:maze_size])\n",
    "\n",
    "\n",
    "            "
   ]
  },
  {
   "cell_type": "code",
   "execution_count": 213,
   "metadata": {},
   "outputs": [
    {
     "name": "stdout",
     "output_type": "stream",
     "text": [
      "Maze\n",
      "[[1. 1. 1. 1. 1. 1. 1. 1. 1. 1.]\n",
      " [1. 9. 0. 1. 1. 0. 0. 9. 0. 1.]\n",
      " [1. 1. 9. 9. 9. 9. 9. 1. 1. 1.]\n",
      " [1. 1. 1. 1. 1. 1. 9. 1. 1. 1.]\n",
      " [1. 1. 1. 1. 1. 1. 9. 1. 1. 1.]\n",
      " [1. 1. 0. 9. 9. 9. 0. 1. 1. 1.]\n",
      " [1. 1. 9. 1. 1. 1. 1. 1. 1. 1.]\n",
      " [1. 1. 0. 9. 9. 9. 9. 9. 9. 1.]\n",
      " [1. 1. 1. 1. 1. 1. 1. 1. 1. 1.]\n",
      " [1. 1. 1. 1. 1. 1. 1. 1. 1. 1.]]\n",
      "Mark\n",
      "[[1. 1. 1. 1. 1. 1. 1. 1. 1. 1.]\n",
      " [1. 1. 1. 1. 1. 1. 1. 1. 1. 1.]\n",
      " [1. 1. 1. 1. 1. 1. 1. 1. 1. 1.]\n",
      " [1. 1. 1. 1. 1. 1. 1. 1. 1. 1.]\n",
      " [1. 1. 1. 1. 1. 1. 1. 1. 1. 1.]\n",
      " [1. 1. 1. 1. 1. 1. 1. 1. 1. 1.]\n",
      " [1. 1. 1. 1. 1. 1. 1. 1. 1. 1.]\n",
      " [1. 1. 1. 1. 1. 1. 1. 1. 1. 1.]\n",
      " [1. 1. 1. 1. 1. 1. 1. 1. 1. 1.]\n",
      " [1. 1. 1. 1. 1. 1. 1. 1. 1. 1.]]\n"
     ]
    }
   ],
   "source": [
    "print(\"Maze\")\n",
    "print(maze[:maze_size,:maze_size])\n",
    "\n",
    "print(\"Mark\")\n",
    "print(mark[:maze_size,:maze_size]) \n"
   ]
  },
  {
   "cell_type": "code",
   "execution_count": null,
   "metadata": {},
   "outputs": [],
   "source": []
  }
 ],
 "metadata": {
  "kernelspec": {
   "display_name": "base",
   "language": "python",
   "name": "python3"
  },
  "language_info": {
   "codemirror_mode": {
    "name": "ipython",
    "version": 3
   },
   "file_extension": ".py",
   "mimetype": "text/x-python",
   "name": "python",
   "nbconvert_exporter": "python",
   "pygments_lexer": "ipython3",
   "version": "3.9.12"
  },
  "orig_nbformat": 4
 },
 "nbformat": 4,
 "nbformat_minor": 2
}
