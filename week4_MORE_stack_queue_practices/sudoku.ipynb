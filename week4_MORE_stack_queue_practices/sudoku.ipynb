{
 "cells": [
  {
   "attachments": {},
   "cell_type": "markdown",
   "metadata": {},
   "source": [
    "# Sudoku generator\n",
    "## Steps\n",
    "1. Fill up the diagonal sectors with random valid numbers\n",
    "2. Fill up other sectors by solving them.\n",
    "3. Randomly removes cells from the sudoku."
   ]
  },
  {
   "attachments": {},
   "cell_type": "markdown",
   "metadata": {},
   "source": [
    "## FillDiagonal\n",
    "- For all possible diagonal sectors, do \n",
    "  - For all possible cells within a sector, do \n",
    "       1. Create a set to keep track of valid elements for that particular sector.\n",
    "       2. From the set I create, randomly select a valid element out from that set.\n",
    "       3. Removing the selected element from the set.\n",
    "       4. Plug the valid element into the cell of the sector.\n",
    "       - REPEAT for all cells within a sector.\n",
    "  \n",
    "  - REPEAT for all diagonal sectors."
   ]
  },
  {
   "attachments": {},
   "cell_type": "markdown",
   "metadata": {},
   "source": [
    "# SolveSudokus(Brute Force)\n",
    "1. Select the next cell to fill in.\n",
    "  - For all possible value for that cell\n",
    "    1. Check if the selected value is valid for this cell.\n",
    "        - If so, plug the value into the cell.\n",
    "    2. SolveSudoku for another cell.\n",
    "        - If the puzzle is solved, keep the partial board until now.\n",
    "    3. Otherwise, it is a dead board, cleaning up the mess.\n",
    "        - Set the previously set cell empty!\n",
    "2. No more cell to fill in, end of filling sudoku.       "
   ]
  },
  {
   "attachments": {},
   "cell_type": "markdown",
   "metadata": {},
   "source": [
    "# Remove Random number of slots from sudoku board\n",
    "1. Randomly picking an index.\n",
    "2. Clear the selected cell specified by index to 0.\n",
    "3. Repeat for a number of times."
   ]
  }
 ],
 "metadata": {
  "language_info": {
   "name": "python"
  },
  "orig_nbformat": 4
 },
 "nbformat": 4,
 "nbformat_minor": 2
}
