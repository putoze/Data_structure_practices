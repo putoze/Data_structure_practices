{
 "cells": [
  {
   "attachments": {},
   "cell_type": "markdown",
   "metadata": {},
   "source": [
    "# These Basic practices are from the following videos:"
   ]
  },
  {
   "cell_type": "code",
   "execution_count": 56,
   "metadata": {},
   "outputs": [
    {
     "name": "stdout",
     "output_type": "stream",
     "text": [
      "x\n",
      "y\n",
      "z\n"
     ]
    },
    {
     "data": {
      "text/plain": [
       "'l'"
      ]
     },
     "execution_count": 56,
     "metadata": {},
     "output_type": "execute_result"
    }
   ],
   "source": [
    "#Binary trees implementation using node representation.\n",
    "#1 Node\n",
    "class Node:\n",
    "    def __init__(self,val):\n",
    "        self.value = val\n",
    "        self.left  = None\n",
    "        self.right = None\n",
    "\n",
    "\n",
    "x = Node(\"x\")\n",
    "print(x.value)\n",
    "\n",
    "y = Node(\"y\")\n",
    "z = Node(\"z\")\n",
    "h = Node(\"h\")\n",
    "m = Node(\"m\")\n",
    "l = Node(\"l\")\n",
    "n = Node(\"n\")\n",
    "\n",
    "x.left  = y\n",
    "x.right = z\n",
    "y.left = h\n",
    "y.right = m\n",
    "z.left = l\n",
    "z.right = n\n",
    "\n",
    "print(x.left.value)\n",
    "print(x.right.value)\n",
    "\n",
    "z.left.value\n",
    "\n"
   ]
  },
  {
   "attachments": {},
   "cell_type": "markdown",
   "metadata": {},
   "source": [
    "# Basic DFS"
   ]
  },
  {
   "attachments": {},
   "cell_type": "markdown",
   "metadata": {},
   "source": [
    "## Boundary Conditions\n",
    "1. Your node's left child is a null\n",
    "2. The root is a null, how to handle this?\n",
    "3. This is more HW friendly."
   ]
  },
  {
   "cell_type": "code",
   "execution_count": 57,
   "metadata": {},
   "outputs": [
    {
     "name": "stdout",
     "output_type": "stream",
     "text": [
      "x\n",
      "y\n",
      "h\n",
      "m\n",
      "z\n",
      "l\n",
      "n\n"
     ]
    }
   ],
   "source": [
    "\n",
    "if x is not None:\n",
    "    stack = [x]\n",
    "\n",
    "while stack != []:\n",
    "    currentNode = stack.pop() \n",
    "    print(currentNode.value)\n",
    "    \n",
    "    if currentNode.right is not None:\n",
    "        stack.append(currentNode.right)\n",
    "    if currentNode.left is not None:\n",
    "        stack.append(currentNode.left)\n"
   ]
  },
  {
   "cell_type": "code",
   "execution_count": 58,
   "metadata": {},
   "outputs": [],
   "source": [
    "def dfs_iterative(x):\n",
    "    result = []\n",
    "    \n",
    "    if x is not None:\n",
    "        stack = [x]\n",
    "\n",
    "    while stack != []:\n",
    "        currentNode = stack.pop()\n",
    "        if currentNode is not None:\n",
    "            result.append(currentNode.value)\n",
    "        \n",
    "        if currentNode.right is not None:\n",
    "            stack.append(currentNode.right)\n",
    "        if currentNode.left is not None:\n",
    "            stack.append(currentNode.left)\n",
    "\n",
    "    return result"
   ]
  },
  {
   "cell_type": "code",
   "execution_count": 59,
   "metadata": {},
   "outputs": [
    {
     "name": "stdout",
     "output_type": "stream",
     "text": [
      "['x', 'y', 'h', 'm', 'z', 'l', 'n']\n"
     ]
    }
   ],
   "source": [
    "print(dfs_iterative(x))"
   ]
  },
  {
   "attachments": {},
   "cell_type": "markdown",
   "metadata": {},
   "source": [
    "# Recursive Version"
   ]
  },
  {
   "cell_type": "code",
   "execution_count": 60,
   "metadata": {},
   "outputs": [],
   "source": [
    "def dfs(node):\n",
    "    # Base case, the Null root\n",
    "    if node is None:\n",
    "        return\n",
    "    \n",
    "    print(node.value)\n",
    "    # Traverse the left node then the right node.\n",
    "    # Think from a single node, check for left node, then check for right node.\n",
    "    if node.left is not None:\n",
    "        dfs(node.left)\n",
    "    if node.right is not None:\n",
    "        dfs(node.right)"
   ]
  },
  {
   "cell_type": "code",
   "execution_count": 61,
   "metadata": {},
   "outputs": [
    {
     "name": "stdout",
     "output_type": "stream",
     "text": [
      "x\n",
      "y\n",
      "h\n",
      "m\n",
      "z\n",
      "l\n",
      "n\n"
     ]
    }
   ],
   "source": [
    "dfs(x)"
   ]
  },
  {
   "attachments": {},
   "cell_type": "markdown",
   "metadata": {},
   "source": [
    "## Queue with the data type of my node"
   ]
  },
  {
   "cell_type": "code",
   "execution_count": 62,
   "metadata": {},
   "outputs": [],
   "source": [
    "import numpy as np\n",
    "class Queue:\n",
    "    def __init__(self,size):\n",
    "        self.arr = np.empty(size,dtype = Node)\n",
    "        self.size = size\n",
    "        self.front = 0\n",
    "        self.rear  = 0\n",
    "    \n",
    "    def isFull(self):\n",
    "        n_rear = (self.rear + 1) % self.size\n",
    "        return n_rear == self.front\n",
    "    \n",
    "    def isEmpty(self):\n",
    "        return self.front == self.rear\n",
    "        \n",
    "        \n",
    "    def enqueue(self,val):\n",
    "        if self.isFull():\n",
    "            return \"Queue is full\"\n",
    "        else:\n",
    "            self.rear = (self.rear + 1) % self.size\n",
    "            self.arr[self.rear] = val\n",
    "        \n",
    "    def dequeue(self):\n",
    "        if self.isEmpty():\n",
    "            print(\"Queue is empty!\")\n",
    "            return None\n",
    "        else:\n",
    "            self.front = (self.front + 1) % self.size\n",
    "            val = self.arr[self.front]\n",
    "            self.arr[self.front] = 0\n",
    "            return val\n",
    "    def displayQueue(self):\n",
    "        for e in self.arr:\n",
    "            if e is not None:\n",
    "                print(e.value)\n",
    "    "
   ]
  },
  {
   "cell_type": "code",
   "execution_count": 63,
   "metadata": {},
   "outputs": [
    {
     "name": "stdout",
     "output_type": "stream",
     "text": [
      "True\n",
      "x\n",
      "y\n",
      "z\n",
      "3\n",
      "0\n",
      "Dequing...\n",
      "Queue is empty!\n",
      "Queue is empty!\n",
      "Queue is empty!\n"
     ]
    }
   ],
   "source": [
    "# Test Queue\n",
    "q = Queue(30)\n",
    "q.displayQueue()\n",
    "\n",
    "print(q.isEmpty())\n",
    "q.enqueue(x)\n",
    "q.enqueue(y)\n",
    "q.enqueue(z)\n",
    "\n",
    "q.displayQueue()\n",
    "print(q.rear)\n",
    "print(q.front)\n",
    "\n",
    "print(\"Dequing...\")\n",
    "for _ in range(6):\n",
    "    val = q.dequeue()\n",
    "    \n",
    "\n"
   ]
  },
  {
   "attachments": {},
   "cell_type": "markdown",
   "metadata": {},
   "source": [
    "# Basic Iterative BFS"
   ]
  },
  {
   "attachments": {},
   "cell_type": "markdown",
   "metadata": {},
   "source": [
    "## \n",
    "1. First create a Queue\n",
    "2. Push the root you want to traverse into the Queue\n",
    "3. Start dequeueing the queue\n",
    "4. If the queue is not empty, then more dequeue is needed"
   ]
  },
  {
   "cell_type": "code",
   "execution_count": 64,
   "metadata": {},
   "outputs": [
    {
     "name": "stdout",
     "output_type": "stream",
     "text": [
      "x\n",
      "y\n",
      "z\n",
      "h\n",
      "m\n",
      "l\n",
      "n\n"
     ]
    },
    {
     "data": {
      "text/plain": [
       "['x', 'y', 'z', 'h', 'm', 'l', 'n']"
      ]
     },
     "execution_count": 64,
     "metadata": {},
     "output_type": "execute_result"
    }
   ],
   "source": [
    "\n",
    "q = Queue(20)\n",
    "q.enqueue(x)\n",
    "val = []\n",
    "\n",
    "# q.displayQueue()\n",
    "\n",
    "while q.isEmpty() is False:\n",
    "    # q.displayQueue()\n",
    "    currentNode = q.dequeue()\n",
    "    val.append(currentNode.value)\n",
    "    if currentNode is not None:\n",
    "        print(currentNode.value)\n",
    "    \n",
    "    if currentNode.left is not None:\n",
    "        q.enqueue(currentNode.left)\n",
    "    if currentNode.right is not None:\n",
    "        q.enqueue(currentNode.right)\n",
    "    \n",
    "\n",
    "\n",
    "val"
   ]
  },
  {
   "cell_type": "code",
   "execution_count": 65,
   "metadata": {},
   "outputs": [],
   "source": [
    "def bfs(x,size):\n",
    "    q = Queue(size)\n",
    "    q.enqueue(x)\n",
    "    val = []\n",
    "\n",
    "    while q.isEmpty() is False:\n",
    "        # q.displayQueue()\n",
    "        currentNode = q.dequeue()\n",
    "        val.append(currentNode.value)\n",
    "        \n",
    "        # if currentNode is not None:\n",
    "        #     print(currentNode.value)\n",
    "\n",
    "        if currentNode.left is not None:\n",
    "            q.enqueue(currentNode.left)\n",
    "        if currentNode.right is not None:\n",
    "            q.enqueue(currentNode.right)\n",
    "    \n",
    "    return val\n",
    "    \n",
    "    "
   ]
  },
  {
   "cell_type": "code",
   "execution_count": 66,
   "metadata": {},
   "outputs": [
    {
     "name": "stdout",
     "output_type": "stream",
     "text": [
      "['x', 'y', 'z', 'h', 'm', 'l', 'n']\n"
     ]
    }
   ],
   "source": [
    "print(bfs(x,40))"
   ]
  },
  {
   "attachments": {},
   "cell_type": "markdown",
   "metadata": {},
   "source": [
    "# Tree include problem\n",
    "### Searching for a certain value within a binary tree.\n",
    "### Checking whether this certain value exist."
   ]
  },
  {
   "cell_type": "code",
   "execution_count": 67,
   "metadata": {},
   "outputs": [
    {
     "name": "stdout",
     "output_type": "stream",
     "text": [
      "['a', 'b', 'd', 'c', 'e', 'f']\n",
      "['a', 'b', 'c', 'd', 'e', 'f']\n",
      "True\n"
     ]
    }
   ],
   "source": [
    "# Defining more test cases\n",
    "a = Node(\"a\")\n",
    "b = Node(\"b\")\n",
    "c = Node(\"c\")\n",
    "d = Node(\"d\")\n",
    "e = Node(\"e\")\n",
    "f = Node(\"f\")\n",
    "\n",
    "num_to_search = 'f'\n",
    "\n",
    "a.left = b\n",
    "a.right = c\n",
    "c.left = e\n",
    "c.right = f\n",
    "b.left = d\n",
    "\n",
    "print(dfs_iterative(a))\n",
    "print(bfs(a,20))\n",
    "\n",
    "print(num_to_search == f.value)\n"
   ]
  },
  {
   "attachments": {},
   "cell_type": "markdown",
   "metadata": {},
   "source": [
    "## BFS find value"
   ]
  },
  {
   "cell_type": "code",
   "execution_count": 68,
   "metadata": {},
   "outputs": [
    {
     "name": "stdout",
     "output_type": "stream",
     "text": [
      "Value Found!\n"
     ]
    }
   ],
   "source": [
    "q = Queue(30)\n",
    "q.enqueue(a)\n",
    "flag = 0\n",
    "num_to_search = 'f'\n",
    "\n",
    "while q.isEmpty() is False:\n",
    "    # q.displayQueue()\n",
    "    currentNode = q.dequeue()\n",
    "    if currentNode.value == num_to_search:\n",
    "        print(\"Value Found!\")\n",
    "        flag = 1\n",
    "        break\n",
    "    \n",
    "    # if currentNode is not None:\n",
    "    #     print(currentNode.value)\n",
    "    if currentNode.left is not None:\n",
    "        q.enqueue(currentNode.left)\n",
    "    if currentNode.right is not None:\n",
    "        q.enqueue(currentNode.right)\n",
    "\n",
    "if flag == 0:\n",
    "    print(\"Value does not exist!\")"
   ]
  },
  {
   "attachments": {},
   "cell_type": "markdown",
   "metadata": {},
   "source": [
    "# DFS find value"
   ]
  },
  {
   "cell_type": "code",
   "execution_count": 69,
   "metadata": {},
   "outputs": [],
   "source": [
    "def dfs_find(x,e):\n",
    "    if x is None:\n",
    "        return False\n",
    "    \n",
    "    if x.value == e:\n",
    "        return True\n",
    "    \n",
    "    left  = dfs_find(x.left,e)\n",
    "    right = dfs_find(x.right,e)\n",
    "    \n",
    "    return left or right\n"
   ]
  },
  {
   "cell_type": "code",
   "execution_count": 70,
   "metadata": {},
   "outputs": [
    {
     "data": {
      "text/plain": [
       "True"
      ]
     },
     "execution_count": 70,
     "metadata": {},
     "output_type": "execute_result"
    }
   ],
   "source": [
    "dfs_find(a,'f')"
   ]
  },
  {
   "attachments": {},
   "cell_type": "markdown",
   "metadata": {},
   "source": [
    "# Tree Sum\n",
    "## Adding up the value of the whole Binary tree"
   ]
  },
  {
   "cell_type": "code",
   "execution_count": 71,
   "metadata": {},
   "outputs": [],
   "source": [
    "# Define Test Cases with Nums\n",
    "a = Node(7)\n",
    "b = Node(4)\n",
    "c = Node(2)\n",
    "d = Node(3)\n",
    "e = Node(10)\n",
    "f = Node(11)\n",
    "\n",
    "num_to_search = 'f'\n",
    "\n",
    "a.left = b\n",
    "a.right = c\n",
    "c.left = e\n",
    "c.right = f\n",
    "b.left = d"
   ]
  },
  {
   "cell_type": "code",
   "execution_count": 72,
   "metadata": {},
   "outputs": [],
   "source": [
    "def dfs_tree_sum(x):\n",
    "    if x is None:\n",
    "        return 0\n",
    "    \n",
    "    sum = x.value\n",
    "    \n",
    "    sum += dfs_tree_sum(x.left)\n",
    "    sum += dfs_tree_sum(x.right)\n",
    "    \n",
    "    return sum"
   ]
  },
  {
   "cell_type": "code",
   "execution_count": 73,
   "metadata": {},
   "outputs": [
    {
     "data": {
      "text/plain": [
       "37"
      ]
     },
     "execution_count": 73,
     "metadata": {},
     "output_type": "execute_result"
    }
   ],
   "source": [
    "dfs_tree_sum(a)"
   ]
  },
  {
   "attachments": {},
   "cell_type": "markdown",
   "metadata": {},
   "source": [
    "## Finding min value in a binary tree"
   ]
  },
  {
   "attachments": {},
   "cell_type": "markdown",
   "metadata": {},
   "source": [
    "### Using DFS iterative approach"
   ]
  },
  {
   "cell_type": "code",
   "execution_count": 74,
   "metadata": {},
   "outputs": [],
   "source": [
    "def dfs_iterative_find_min(x):\n",
    "    min_val = 999\n",
    "    \n",
    "    # Check if the root is None, if not None, push it into the stack\n",
    "    if x is not None:\n",
    "        stack = [x]\n",
    "\n",
    "    # Stack traversal, traversing the stack, if stack is not empty, there are still more values to traverse\n",
    "    while stack != []:\n",
    "        currentNode = stack.pop()\n",
    "        if currentNode.value <= min_val:\n",
    "            min_val = currentNode.value\n",
    "        if currentNode.right is not None:\n",
    "            stack.append(currentNode.right)\n",
    "        if currentNode.left is not None:\n",
    "            stack.append(currentNode.left)\n",
    "\n",
    "    return min_val"
   ]
  },
  {
   "cell_type": "code",
   "execution_count": 75,
   "metadata": {},
   "outputs": [
    {
     "name": "stdout",
     "output_type": "stream",
     "text": [
      "2\n"
     ]
    }
   ],
   "source": [
    "print(dfs_iterative_find_min(a))"
   ]
  },
  {
   "attachments": {},
   "cell_type": "markdown",
   "metadata": {},
   "source": [
    "## Max root to leaf path sum"
   ]
  },
  {
   "attachments": {},
   "cell_type": "markdown",
   "metadata": {},
   "source": [
    "### Searching for the max sum up from a leaf to root node"
   ]
  },
  {
   "cell_type": "code",
   "execution_count": 76,
   "metadata": {},
   "outputs": [],
   "source": [
    "def dfs_tree_leafPath_sum(x,sum):\n",
    "    if x is None:\n",
    "        return 0\n",
    "    \n",
    "    # First receive the two subtree's sum, then add the sum together\n",
    "    left_sum = dfs_tree_leafPath_sum(x.left,sum)\n",
    "    right_sum = dfs_tree_leafPath_sum(x.right,sum)\n",
    "    \n",
    "    sum += x.value\n",
    "    \n",
    "    if left_sum >= right_sum:\n",
    "        sum += left_sum\n",
    "    else:\n",
    "        sum += right_sum\n",
    "    \n",
    "    # print(left_sum)\n",
    "    # print(right_sum)\n",
    "    # print(sum)\n",
    "    \n",
    "    return sum"
   ]
  },
  {
   "cell_type": "code",
   "execution_count": 77,
   "metadata": {},
   "outputs": [
    {
     "data": {
      "text/plain": [
       "20"
      ]
     },
     "execution_count": 77,
     "metadata": {},
     "output_type": "execute_result"
    }
   ],
   "source": [
    "sum = 0\n",
    "dfs_tree_leafPath_sum(a,sum)"
   ]
  },
  {
   "attachments": {},
   "cell_type": "markdown",
   "metadata": {},
   "source": [
    "## Iterative DFS find max pathLeaf stack version"
   ]
  },
  {
   "attachments": {},
   "cell_type": "markdown",
   "metadata": {},
   "source": [
    "### Most important idea in backtracking is the idea of restoring the damage. So a Restore damage node and position node must be added or included when traversing"
   ]
  },
  {
   "cell_type": "code",
   "execution_count": 96,
   "metadata": {},
   "outputs": [],
   "source": [
    "def dfs_iterative_find_max_pathLeaf(x):\n",
    "    # Restore node must be added if you want to use backtracking using stack.\n",
    "    max_val = 0\n",
    "    tmp_val = 0\n",
    "    \n",
    "    # Check if the root is None, if not None, push it into the stack\n",
    "    if x is not None:\n",
    "        stack = [x]\n",
    "\n",
    "    # Stack traversal, traversing the stack, if stack is not empty, there are still more values to traverse\n",
    "    while stack != []:\n",
    "        currentNode = stack.pop()\n",
    "        # Restore node,add the restore node.\n",
    "        restore = Node(currentNode.value)\n",
    "        restore.left = False\n",
    "        restore.right = False\n",
    "        \n",
    "        if currentNode.left == False and currentNode.right == False:\n",
    "            # The backtracking nodes used to restore damage.\n",
    "            tmp_val -= currentNode.value\n",
    "        \n",
    "        elif currentNode.left == None and currentNode.right == None:    \n",
    "            #Leaf Node\n",
    "            stack.append(restore) #Restore the damage\n",
    "            tmp_val += currentNode.value\n",
    "            if tmp_val >= max_val:\n",
    "                max_val = tmp_val\n",
    "        else:\n",
    "            tmp_val += currentNode.value\n",
    "            stack.append(restore)\n",
    "            if currentNode.right is not None:        \n",
    "                stack.append(currentNode.right)\n",
    "            \n",
    "            if currentNode.left is not None:\n",
    "                stack.append(currentNode.left)\n",
    "       \n",
    "\n",
    "    return max_val"
   ]
  },
  {
   "cell_type": "code",
   "execution_count": 99,
   "metadata": {},
   "outputs": [
    {
     "data": {
      "text/plain": [
       "113"
      ]
     },
     "execution_count": 99,
     "metadata": {},
     "output_type": "execute_result"
    }
   ],
   "source": [
    "# Define Test Cases with Nums\n",
    "# Skewed binary trees.\n",
    "a = Node(7)\n",
    "b = Node(4)\n",
    "c = Node(2)\n",
    "d = Node(1)\n",
    "e = Node(99)\n",
    "f = Node(3)\n",
    "\n",
    "a.left = b\n",
    "a.right = f\n",
    "b.left = c\n",
    "c.left = d\n",
    "d.left = e\n",
    "\n",
    "dfs_iterative_find_max_pathLeaf(a)"
   ]
  }
 ],
 "metadata": {
  "kernelspec": {
   "display_name": "base",
   "language": "python",
   "name": "python3"
  },
  "language_info": {
   "codemirror_mode": {
    "name": "ipython",
    "version": 3
   },
   "file_extension": ".py",
   "mimetype": "text/x-python",
   "name": "python",
   "nbconvert_exporter": "python",
   "pygments_lexer": "ipython3",
   "version": "3.9.12"
  },
  "orig_nbformat": 4
 },
 "nbformat": 4,
 "nbformat_minor": 2
}
