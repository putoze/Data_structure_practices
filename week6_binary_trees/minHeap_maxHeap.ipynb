{
 "cells": [
  {
   "cell_type": "code",
   "execution_count": null,
   "metadata": {},
   "outputs": [],
   "source": []
  },
  {
   "attachments": {},
   "cell_type": "markdown",
   "metadata": {},
   "source": [
    "# Assume Node is at idx i\n",
    "### 1. Its left child is @ 2i\n",
    "### 2. Its right child is @ 2i+1\n",
    "### 3. Its right child is @ floor i/2\n",
    "### Your array representation of binary tree can start from 1"
   ]
  },
  {
   "cell_type": "code",
   "execution_count": 71,
   "metadata": {},
   "outputs": [],
   "source": [
    "import numpy as np\n",
    "size = 10\n",
    "tree = np.empty(size,dtype=int)"
   ]
  },
  {
   "attachments": {},
   "cell_type": "markdown",
   "metadata": {},
   "source": [
    "### Inserting value to from a complete binary tree"
   ]
  },
  {
   "cell_type": "code",
   "execution_count": 72,
   "metadata": {},
   "outputs": [],
   "source": [
    "class completeBinary:\n",
    "    def __init__(self,size,root):\n",
    "        self.size = size\n",
    "        self.tree = np.zeros(size,dtype=int)\n",
    "        self.end  = 1\n",
    "        self.tree[1] = root\n",
    "    def insert_node(self,value):\n",
    "        self.tree[self.end] = value\n",
    "        self.end += 1\n",
    "    def display_tree(self):\n",
    "        print(\"The whole tree\")\n",
    "        for i in range(1,self.size):\n",
    "            print(self.tree[i],\"----\",i)\n",
    "           \n",
    "    def giveLeftChild(self,node):\n",
    "        # Null node\n",
    "        if self.tree[2*node] == 0:\n",
    "            return False\n",
    "        \n",
    "        return self.tree[2*node]\n",
    "    def giveRightChild(self,node):\n",
    "        # Null node\n",
    "        if self.tree[2*node+1] == 0:\n",
    "            return False\n",
    "        \n",
    "        return self.tree[2*node+1]\n",
    "    def giveParent(self,node):\n",
    "        return self.tree[int(node/2)]\n",
    "            "
   ]
  },
  {
   "cell_type": "code",
   "execution_count": 73,
   "metadata": {},
   "outputs": [
    {
     "name": "stdout",
     "output_type": "stream",
     "text": [
      "2511\n",
      "322\n",
      "10\n",
      "The whole tree\n",
      "24 ---- 1\n",
      "321 ---- 2\n",
      "322 ---- 3\n",
      "2511 ---- 4\n",
      "12 ---- 5\n",
      "0 ---- 6\n",
      "0 ---- 7\n",
      "0 ---- 8\n",
      "0 ---- 9\n"
     ]
    }
   ],
   "source": [
    "tree = completeBinary(10,22)\n",
    "tree.insert_node(24)  #2\n",
    "tree.insert_node(321) #3\n",
    "tree.insert_node(322) #4\n",
    "tree.insert_node(2511)#5\n",
    "tree.insert_node(12)  #6\n",
    "print(tree.giveLeftChild(2))\n",
    "print(tree.giveParent(6))\n",
    "print(tree.size)\n",
    "tree.display_tree()\n"
   ]
  },
  {
   "attachments": {},
   "cell_type": "markdown",
   "metadata": {},
   "source": [
    "# Heap"
   ]
  },
  {
   "attachments": {},
   "cell_type": "markdown",
   "metadata": {},
   "source": [
    "## Insertion"
   ]
  },
  {
   "cell_type": "code",
   "execution_count": 74,
   "metadata": {},
   "outputs": [],
   "source": [
    "import math\n",
    "\n",
    "class maxheap:\n",
    "    def __init__(self,size,root):\n",
    "        self.size = size\n",
    "        self.tree = np.zeros(size,dtype=int)\n",
    "        self.end  = 2\n",
    "        self.tree[1] = root\n",
    "    def insert_node(self,value):\n",
    "        # Insertion requires the bubble up approach\n",
    "        # To compare, find the value of the parent.\n",
    "        \n",
    "        # First insert the element to the last position of array\n",
    "        currentNodeIndex = self.end\n",
    "        if self.end <= self.size:\n",
    "            if value is not None:\n",
    "                self.tree[self.end] = value\n",
    "                self.end += 1\n",
    "\n",
    "        # Bubble up, compare with the parents until, 1. it meets the root, 2. It is smaller than the parent.\n",
    "        while currentNodeIndex != 1:\n",
    "            # Compare until meets root.\n",
    "            \n",
    "            currentNodeValue = self.tree[currentNodeIndex]\n",
    "            parentNodeValue,parentNodeIndex  = self.giveParent(currentNodeIndex)\n",
    "            \n",
    "            # Compare with the parents\n",
    "            if parentNodeValue <= currentNodeValue:\n",
    "                # If smaller than parent swap with parent\n",
    "                tmp = currentNodeValue\n",
    "                self.tree[currentNodeIndex] = parentNodeValue\n",
    "                currentNodeIndex = int(currentNodeIndex/2)\n",
    "                self.tree[currentNodeIndex] = tmp\n",
    "            else:\n",
    "                # Unable to compare anymore it finds its position.\n",
    "                break\n",
    "        \n",
    "    def delete_node(self):\n",
    "        # Drop down approach\n",
    "        # First determine if the tree is empty or not\n",
    "        if self.end == 1:\n",
    "            assert(\"Tree is empty, cannot delete\")\n",
    "            return None\n",
    "        else:\n",
    "            # Remove the root\n",
    "            rootValue = self.tree[1]\n",
    "            self.tree[tree.end] = rootValue\n",
    "            \n",
    "            self.end -= 1\n",
    "            \n",
    "            # Get the last element of tree and drop it down from the root.\n",
    "            lastElementValue = self.tree[self.end]\n",
    "            self.tree[1]     = lastElementValue\n",
    "            currentNodeIndex = 1\n",
    "                        \n",
    "            # Keep comparing with children, until 1. it reaches leaf node 2. it is larger than both of its children.\n",
    "            while self.isLeafNode(currentNodeIndex) is False:\n",
    "                # print(\"Comparing\")\n",
    "                # Keep on comparing with children. Swap with the larger children.\n",
    "                \n",
    "                currentNodeValue  = self.tree[currentNodeIndex]\n",
    "                leftChild , leftChildIndex   = self.giveLeftChild(currentNodeIndex)\n",
    "                RightChild , RightChildIndex = self.giveRightChild(currentNodeIndex)\n",
    "                \n",
    "                if currentNodeValue >= leftChild and currentNodeValue >= RightChild:\n",
    "                    # It found its position once it is larger than both of its children\n",
    "                    break\n",
    "                else:\n",
    "                    #Compare and swap\n",
    "                    if leftChild >= RightChild:\n",
    "                        # print(\"Swap left\")\n",
    "                        # Swap with leftChild\n",
    "                        tmp = leftChild\n",
    "                        self.tree[leftChildIndex]  = currentNodeValue\n",
    "                        self.tree[currentNodeIndex] = tmp\n",
    "                        currentNodeIndex = leftChildIndex\n",
    "                    else:\n",
    "                        # print(\"Swap right\")\n",
    "                        # Swap with RightChild\n",
    "                        tmp = RightChild\n",
    "                        self.tree[RightChildIndex]  = currentNodeValue\n",
    "                        self.tree[currentNodeIndex] = tmp\n",
    "                        currentNodeIndex = RightChildIndex\n",
    "                \n",
    "                # self.display_tree()\n",
    "                # print(self.end)\n",
    "            \n",
    "            return rootValue\n",
    "                    \n",
    "    def display_tree(self):\n",
    "        if self.end == 1:\n",
    "            print(\"Tree is empty\")\n",
    "        else:\n",
    "            for i in range(1,self.end):\n",
    "                print(self.tree[i],\"----\",i)\n",
    "           \n",
    "    def giveLeftChild(self,node):\n",
    "        # print(\"In left child\")\n",
    "        # Give left child and its index\n",
    "        leftchildIndex = 2*node\n",
    "        if leftchildIndex < self.size:\n",
    "            if self.tree[leftchildIndex] == 0 or leftchildIndex > self.end:\n",
    "                return False,False\n",
    "            else:\n",
    "                return self.tree[leftchildIndex] , leftchildIndex\n",
    "        else:\n",
    "            return False,False\n",
    "        \n",
    "    def giveRightChild(self,node):\n",
    "        # print(\"In right child\")\n",
    "        # Give left child and its index\n",
    "        rightchildIndex = 2*node+1\n",
    "        if rightchildIndex < self.size:\n",
    "            if self.tree[rightchildIndex] == 0 or rightchildIndex > self.end:\n",
    "                return False,False\n",
    "            else:\n",
    "                return self.tree[rightchildIndex] , rightchildIndex\n",
    "        else:\n",
    "            return False,False\n",
    "    def giveParent(self,node):\n",
    "        # Return the parent's value and index from that node\n",
    "        parentIndex = int(node/2)\n",
    "        \n",
    "        return self.tree[parentIndex], parentIndex\n",
    "\n",
    "    def isLeafNode(self,node):\n",
    "        leftchildValue, leftchildidx = self.giveLeftChild(node)\n",
    "        rightchildValue, rightchildidx = self.giveRightChild(node)\n",
    "        \n",
    "        isLeafNode = leftchildValue is False and rightchildValue is False\n",
    "        return isLeafNode\n",
    "    "
   ]
  },
  {
   "attachments": {},
   "cell_type": "markdown",
   "metadata": {},
   "source": [
    "## Test insert_node"
   ]
  },
  {
   "cell_type": "code",
   "execution_count": 75,
   "metadata": {},
   "outputs": [
    {
     "name": "stdout",
     "output_type": "stream",
     "text": [
      "328 ---- 1\n",
      "280 ---- 2\n",
      "126 ---- 3\n",
      "72 ---- 4\n",
      "141 ---- 5\n",
      "58 ---- 6\n",
      "115 ---- 7\n",
      "13 ---- 8\n",
      "53 ---- 9\n",
      "22 ---- 10\n",
      "45 ---- 11\n"
     ]
    }
   ],
   "source": [
    "import random\n",
    "MAX_ARRAY_SIZE = 300\n",
    "NUM_ELEMENT = 10\n",
    "tree = maxheap(MAX_ARRAY_SIZE,22)\n",
    "\n",
    "for _ in range(NUM_ELEMENT):\n",
    "    random_number = random.randint(1, 340)\n",
    "    tree.insert_node(random_number)  #2\n",
    "    \n",
    "tree.display_tree()\n"
   ]
  },
  {
   "attachments": {},
   "cell_type": "markdown",
   "metadata": {},
   "source": [
    "## HeapSort"
   ]
  },
  {
   "cell_type": "code",
   "execution_count": 76,
   "metadata": {},
   "outputs": [
    {
     "name": "stdout",
     "output_type": "stream",
     "text": [
      "12\n",
      "[328, 280, 141, 126, 115, 72, 58, 53, 45, 22, 13]\n",
      "11\n",
      "1\n",
      "Tree is empty\n"
     ]
    }
   ],
   "source": [
    "import random\n",
    "\n",
    "random.seed(42)\n",
    "# There should only be one 1s however two exist.\n",
    "list = []\n",
    "print(tree.end)\n",
    "for _ in range(tree.end):\n",
    "    val = tree.delete_node()\n",
    "    if val is not None:\n",
    "        list.append(val)\n",
    "\n",
    "print(list)\n",
    "print(len(list))\n",
    "print(tree.end)\n",
    "tree.display_tree()"
   ]
  },
  {
   "cell_type": "code",
   "execution_count": 77,
   "metadata": {},
   "outputs": [
    {
     "name": "stdout",
     "output_type": "stream",
     "text": [
      "328 ---- 1\n",
      "280 ---- 2\n",
      "115 ---- 3\n",
      "141 ---- 4\n",
      "126 ---- 5\n",
      "13 ---- 6\n",
      "72 ---- 7\n",
      "53 ---- 8\n",
      "58 ---- 9\n",
      "45 ---- 10\n"
     ]
    }
   ],
   "source": [
    "for _ in range(NUM_ELEMENT):\n",
    "    random_number = random.randint(1, 340)\n",
    "    tree.insert_node(random_number)  #2\n",
    "    \n",
    "tree.display_tree()"
   ]
  }
 ],
 "metadata": {
  "kernelspec": {
   "display_name": "Python 3",
   "language": "python",
   "name": "python3"
  },
  "language_info": {
   "codemirror_mode": {
    "name": "ipython",
    "version": 3
   },
   "file_extension": ".py",
   "mimetype": "text/x-python",
   "name": "python",
   "nbconvert_exporter": "python",
   "pygments_lexer": "ipython3",
   "version": "3.9.12"
  },
  "orig_nbformat": 4
 },
 "nbformat": 4,
 "nbformat_minor": 2
}
