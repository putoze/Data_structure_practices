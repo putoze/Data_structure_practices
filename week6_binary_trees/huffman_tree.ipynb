{
 "cells": [
  {
   "attachments": {},
   "cell_type": "markdown",
   "metadata": {},
   "source": [
    "### Huffman Coding\n",
    "1. Make a frequency table of the read in pattern\n",
    "2. Build a huffman tree, huffman tree is NOT a min heap, however; it uses a max heap to generate the maximum node for constructing the huffman tree.\n",
    "3. Build out a huffman tree using linked representations is a much much more easier task, even in HW, since we dont need to do the deletion of the tree anymore after constructing it.\n",
    "4. After constructing the huffman tree, start assigning codeword 0/1 onto the branches and final leaf nodes."
   ]
  },
  {
   "attachments": {},
   "cell_type": "markdown",
   "metadata": {},
   "source": [
    "## Make a f table using dictionary "
   ]
  },
  {
   "cell_type": "code",
   "execution_count": 293,
   "metadata": {},
   "outputs": [],
   "source": [
    "img = [99,2,3,3,44,1,2,3,44,2]"
   ]
  },
  {
   "cell_type": "code",
   "execution_count": 294,
   "metadata": {},
   "outputs": [],
   "source": [
    "frequency = []\n",
    "# e.g. [3244,7,0010011011]\n",
    "# Use 3 slots, the first slots indicates the Encoding number\n",
    "# 2nd slot indicates frequency or total frequency\n",
    "# 3rd slot is the codewords\n",
    "\n",
    "for e in img:\n",
    "    added_flag = 0\n",
    "    \n",
    "    for node in frequency:\n",
    "        if node[0] == e:\n",
    "            node[1] += 1\n",
    "            added_flag = 1\n",
    "            break\n",
    "        \n",
    "    if added_flag == 0:\n",
    "        frequency.append([e,1,0])\n",
    "            "
   ]
  },
  {
   "cell_type": "code",
   "execution_count": 295,
   "metadata": {},
   "outputs": [
    {
     "data": {
      "text/plain": [
       "[[99, 1, 0], [2, 3, 0], [3, 3, 0], [44, 2, 0], [1, 1, 0]]"
      ]
     },
     "execution_count": 295,
     "metadata": {},
     "output_type": "execute_result"
    }
   ],
   "source": [
    "frequency"
   ]
  },
  {
   "attachments": {},
   "cell_type": "markdown",
   "metadata": {},
   "source": [
    "## Sort according to index 2"
   ]
  },
  {
   "cell_type": "code",
   "execution_count": 296,
   "metadata": {},
   "outputs": [
    {
     "data": {
      "text/plain": [
       "[[99, 1, 0], [1, 1, 0], [44, 2, 0], [2, 3, 0], [3, 3, 0]]"
      ]
     },
     "execution_count": 296,
     "metadata": {},
     "output_type": "execute_result"
    }
   ],
   "source": [
    "frequency.sort(key=lambda x:x[1])\n",
    "frequency"
   ]
  },
  {
   "attachments": {},
   "cell_type": "markdown",
   "metadata": {},
   "source": [
    "# Build Huffman Tree"
   ]
  },
  {
   "attachments": {},
   "cell_type": "markdown",
   "metadata": {},
   "source": [
    "## Start building by selecting the smallest two numbers"
   ]
  },
  {
   "cell_type": "code",
   "execution_count": 297,
   "metadata": {},
   "outputs": [],
   "source": [
    "import numpy as np\n",
    "# [-1,n] is the sum node\n",
    "# []\n",
    "class huffmanTree:\n",
    "    def __init__(self,size,root):\n",
    "        self.size = size\n",
    "        self.tree = np.ndarray(shape = (size,) , dtype = object)\n",
    "        self.end  = 2\n",
    "        self.tree[1] = root\n",
    "    def insert_node(self,node):\n",
    "        # Now insert an element of [A,F,C]\n",
    "        # Insertion requires the bubble up approach\n",
    "        # To compare, find the value of the parent.\n",
    "        \n",
    "        # First insert the element to the last position of array\n",
    "        currentNodeIndex = self.end\n",
    "        if self.end <= self.size:\n",
    "            if node is not [None,None,None]:\n",
    "                self.tree[self.end] = node\n",
    "                self.end += 1\n",
    "\n",
    "        # Bubble up, compare with the parents until, 1. it meets the root, 2. It is smaller than the parent.\n",
    "        while currentNodeIndex != 1:\n",
    "            # Compare until meets root.\n",
    "            currentNode      = self.tree[currentNodeIndex]\n",
    "            currentNodeValue = currentNode[1] \n",
    "            \n",
    "            parent  = self.giveParent(currentNodeIndex)\n",
    "            parentNodeValue = parent[1]\n",
    "        \n",
    "            # Compare with the parents\n",
    "            if parentNodeValue <= currentNodeValue:\n",
    "                # If smaller than parent swap with parent\n",
    "                tmp = currentNode\n",
    "                self.tree[currentNodeIndex] = parent\n",
    "                currentNodeIndex = int(currentNodeIndex/2)\n",
    "                self.tree[currentNodeIndex] = tmp\n",
    "            else:\n",
    "                # Unable to compare anymore it finds its position.\n",
    "                break\n",
    "        \n",
    "    def delete_node(self):\n",
    "        # Drop down approach\n",
    "        # First determine if the tree is empty or not\n",
    "        if self.end == 1:\n",
    "            assert(\"Tree is empty, cannot delete\")\n",
    "            return None\n",
    "        else:\n",
    "            # Remove the root\n",
    "            root      = self.tree[1]\n",
    "            rootValue = root[1]\n",
    "            # Put the root to the end of the tree\n",
    "            self.tree[self.end] = root\n",
    "            self.end -= 1\n",
    "            \n",
    "            # Get the last element of tree and drop it down from the root.\n",
    "            lastElement = self.tree[self.end]\n",
    "            self.tree[1]     = lastElement\n",
    "            currentNodeIndex = 1\n",
    "                        \n",
    "            # Keep comparing with children, until 1. it reaches leaf node 2. it is larger than both of its children.\n",
    "            while self.isLeafNode(currentNodeIndex) is False:\n",
    "                # print(\"Comparing\")\n",
    "                # Keep on comparing with children. Swap with the larger children.\n",
    "                \n",
    "                currentNode  = self.tree[currentNodeIndex]\n",
    "                currentNodeValue = currentNode[1]\n",
    "                \n",
    "                leftChild , leftChildIndex   = self.giveLeftChild(currentNodeIndex)\n",
    "                rightChild ,rightChildIndex  = self.giveRightChild(currentNodeIndex)\n",
    "                \n",
    "                leftChildValue = leftChild[1]\n",
    "                rightChildValue = rightChild[1]\n",
    "                \n",
    "                if  leftChildIndex == None and rightChildIndex == None:\n",
    "                    # Reaches the leaf node\n",
    "                    break\n",
    "                elif currentNodeValue >= leftChildValue and currentNodeValue >= rightChildValue:\n",
    "                    # It found its position once it is larger than both of its children\n",
    "                    break\n",
    "                else:\n",
    "                    #Compare and swap\n",
    "                    if leftChildValue >= rightChildValue:\n",
    "                        # print(\"Swap left\")\n",
    "                        # Swap with leftChild\n",
    "                        tmp = leftChild\n",
    "                        self.tree[leftChildIndex]  = currentNode\n",
    "                        self.tree[currentNodeIndex] = tmp\n",
    "                        currentNodeIndex = leftChildIndex\n",
    "                    else:\n",
    "                        # print(\"Swap right\")\n",
    "                        # Swap with RightChild\n",
    "                        tmp = rightChild\n",
    "                        self.tree[rightChildIndex]  = currentNode\n",
    "                        self.tree[currentNodeIndex] = tmp\n",
    "                        currentNodeIndex = rightChildIndex\n",
    "                \n",
    "                # self.display_tree()\n",
    "                # print(self.end)\n",
    "            \n",
    "            return rootValue\n",
    "                    \n",
    "    def display_tree(self):\n",
    "        if self.end == 1:\n",
    "            print(\"Tree is empty\")\n",
    "        else:\n",
    "            for i in range(1,self.end):\n",
    "                print(self.tree[i],\"----\",i)\n",
    "           \n",
    "    def giveLeftChild(self,idx):\n",
    "        # print(\"In left child\")\n",
    "        # Give left child and its index\n",
    "        leftchildIndex = 2*idx\n",
    "        if leftchildIndex < self.size:\n",
    "            if self.tree[leftchildIndex] == None or leftchildIndex > self.end:\n",
    "                return [None,None,0] , None\n",
    "            else:\n",
    "                return self.tree[leftchildIndex] , leftchildIndex\n",
    "        else:\n",
    "            return [None,None,0] , None\n",
    "        \n",
    "    def giveRightChild(self,idx):\n",
    "        # Given an index, give its right child node\n",
    "        rightchildIndex = 2*idx+1\n",
    "        if rightchildIndex < self.size:\n",
    "            if self.tree[rightchildIndex] == None or rightchildIndex > self.end:\n",
    "                return [None,None,0] , None\n",
    "            else:\n",
    "                return self.tree[rightchildIndex] , rightchildIndex\n",
    "        else:\n",
    "            return [None,None,0] , None\n",
    "    def giveParent(self,node):\n",
    "        # Return the parent's value and index from that node\n",
    "        parentIndex = int(node/2)\n",
    "        parent = self.tree[parentIndex]\n",
    "        \n",
    "        return parent\n",
    "\n",
    "    def isLeafNode(self,node):\n",
    "        leftChild , leftChildIndex  = self.giveLeftChild(node)\n",
    "        rightChild, rightChildIndex = self.giveRightChild(node)\n",
    "\n",
    "        return leftChildIndex is None and rightChildIndex is None\n",
    "    "
   ]
  },
  {
   "cell_type": "code",
   "execution_count": 298,
   "metadata": {},
   "outputs": [],
   "source": [
    "MAX_SIZE = 30\n",
    "tree = huffmanTree(MAX_SIZE,[3,2,0])"
   ]
  },
  {
   "cell_type": "code",
   "execution_count": 299,
   "metadata": {},
   "outputs": [
    {
     "name": "stdout",
     "output_type": "stream",
     "text": [
      "[3, 2, 0] ---- 1\n"
     ]
    }
   ],
   "source": [
    "tree.display_tree()"
   ]
  },
  {
   "cell_type": "code",
   "execution_count": 300,
   "metadata": {},
   "outputs": [],
   "source": [
    "tree.insert_node([4,99,0])\n",
    "tree.insert_node([3,7,0])\n",
    "tree.insert_node([5,2,0])\n",
    "tree.insert_node([5,3,0])\n",
    "tree.insert_node([5,4,0])\n",
    "tree.insert_node([5,5,0])"
   ]
  },
  {
   "cell_type": "code",
   "execution_count": 301,
   "metadata": {},
   "outputs": [
    {
     "name": "stdout",
     "output_type": "stream",
     "text": [
      "[4, 99, 0] ---- 1\n",
      "[5, 3, 0] ---- 2\n",
      "[3, 7, 0] ---- 3\n",
      "[3, 2, 0] ---- 4\n",
      "[5, 2, 0] ---- 5\n",
      "[5, 4, 0] ---- 6\n",
      "[5, 5, 0] ---- 7\n"
     ]
    }
   ],
   "source": [
    "tree.display_tree()"
   ]
  },
  {
   "cell_type": "code",
   "execution_count": 302,
   "metadata": {},
   "outputs": [
    {
     "name": "stdout",
     "output_type": "stream",
     "text": [
      "([5, 4, 0], 6)\n",
      "([5, 5, 0], 7)\n",
      "[4, 99, 0]\n",
      "[4, 99, 0] ---- 1\n",
      "[5, 3, 0] ---- 2\n",
      "[3, 7, 0] ---- 3\n",
      "[3, 2, 0] ---- 4\n",
      "[5, 2, 0] ---- 5\n",
      "[5, 4, 0] ---- 6\n",
      "[5, 5, 0] ---- 7\n",
      "([None, None, 0], None)\n",
      "([None, None, 0], None)\n",
      "True\n"
     ]
    }
   ],
   "source": [
    "print(tree.giveLeftChild(3))\n",
    "print(tree.giveRightChild(3))\n",
    "print(tree.giveParent(3))\n",
    "\n",
    "tree.display_tree()\n",
    "\n",
    "print(tree.giveLeftChild(4))\n",
    "print(tree.giveRightChild(4))\n",
    "print(tree.isLeafNode(4))"
   ]
  },
  {
   "cell_type": "code",
   "execution_count": 303,
   "metadata": {},
   "outputs": [
    {
     "ename": "KeyboardInterrupt",
     "evalue": "",
     "output_type": "error",
     "traceback": [
      "\u001b[1;31m---------------------------------------------------------------------------\u001b[0m",
      "\u001b[1;31mKeyboardInterrupt\u001b[0m                         Traceback (most recent call last)",
      "\u001b[1;32mc:\\Users\\User\\Desktop\\Data_structure_practices\\week6_binary_trees\\huffman_tree.ipynb Cell 16\u001b[0m in \u001b[0;36m<cell line: 2>\u001b[1;34m()\u001b[0m\n\u001b[0;32m      <a href='vscode-notebook-cell:/c%3A/Users/User/Desktop/Data_structure_practices/week6_binary_trees/huffman_tree.ipynb#X22sZmlsZQ%3D%3D?line=0'>1</a>\u001b[0m tree\u001b[39m.\u001b[39mdelete_node()\n\u001b[1;32m----> <a href='vscode-notebook-cell:/c%3A/Users/User/Desktop/Data_structure_practices/week6_binary_trees/huffman_tree.ipynb#X22sZmlsZQ%3D%3D?line=1'>2</a>\u001b[0m tree\u001b[39m.\u001b[39;49mdelete_node()\n\u001b[0;32m      <a href='vscode-notebook-cell:/c%3A/Users/User/Desktop/Data_structure_practices/week6_binary_trees/huffman_tree.ipynb#X22sZmlsZQ%3D%3D?line=3'>4</a>\u001b[0m tree\u001b[39m.\u001b[39mdisplay_tree()\n",
      "\u001b[1;32mc:\\Users\\User\\Desktop\\Data_structure_practices\\week6_binary_trees\\huffman_tree.ipynb Cell 16\u001b[0m in \u001b[0;36mhuffmanTree.delete_node\u001b[1;34m(self)\u001b[0m\n\u001b[0;32m     <a href='vscode-notebook-cell:/c%3A/Users/User/Desktop/Data_structure_practices/week6_binary_trees/huffman_tree.ipynb#X22sZmlsZQ%3D%3D?line=65'>66</a>\u001b[0m currentNode  \u001b[39m=\u001b[39m \u001b[39mself\u001b[39m\u001b[39m.\u001b[39mtree[currentNodeIndex]\n\u001b[0;32m     <a href='vscode-notebook-cell:/c%3A/Users/User/Desktop/Data_structure_practices/week6_binary_trees/huffman_tree.ipynb#X22sZmlsZQ%3D%3D?line=66'>67</a>\u001b[0m currentNodeValue \u001b[39m=\u001b[39m currentNode[\u001b[39m1\u001b[39m]\n\u001b[1;32m---> <a href='vscode-notebook-cell:/c%3A/Users/User/Desktop/Data_structure_practices/week6_binary_trees/huffman_tree.ipynb#X22sZmlsZQ%3D%3D?line=68'>69</a>\u001b[0m leftChild , leftChildIndex   \u001b[39m=\u001b[39m \u001b[39mself\u001b[39;49m\u001b[39m.\u001b[39;49mgiveLeftChild(currentNodeIndex)\n\u001b[0;32m     <a href='vscode-notebook-cell:/c%3A/Users/User/Desktop/Data_structure_practices/week6_binary_trees/huffman_tree.ipynb#X22sZmlsZQ%3D%3D?line=69'>70</a>\u001b[0m rightChild ,rightChildIndex  \u001b[39m=\u001b[39m \u001b[39mself\u001b[39m\u001b[39m.\u001b[39mgiveRightChild(currentNodeIndex)\n\u001b[0;32m     <a href='vscode-notebook-cell:/c%3A/Users/User/Desktop/Data_structure_practices/week6_binary_trees/huffman_tree.ipynb#X22sZmlsZQ%3D%3D?line=71'>72</a>\u001b[0m leftChildValue \u001b[39m=\u001b[39m leftChild[\u001b[39m1\u001b[39m]\n",
      "\u001b[1;32mc:\\Users\\User\\Desktop\\Data_structure_practices\\week6_binary_trees\\huffman_tree.ipynb Cell 16\u001b[0m in \u001b[0;36mhuffmanTree.giveLeftChild\u001b[1;34m(self, idx)\u001b[0m\n\u001b[0;32m    <a href='vscode-notebook-cell:/c%3A/Users/User/Desktop/Data_structure_practices/week6_binary_trees/huffman_tree.ipynb#X22sZmlsZQ%3D%3D?line=110'>111</a>\u001b[0m leftchildIndex \u001b[39m=\u001b[39m \u001b[39m2\u001b[39m\u001b[39m*\u001b[39midx\n\u001b[0;32m    <a href='vscode-notebook-cell:/c%3A/Users/User/Desktop/Data_structure_practices/week6_binary_trees/huffman_tree.ipynb#X22sZmlsZQ%3D%3D?line=111'>112</a>\u001b[0m \u001b[39mif\u001b[39;00m leftchildIndex \u001b[39m<\u001b[39m \u001b[39mself\u001b[39m\u001b[39m.\u001b[39msize:\n\u001b[1;32m--> <a href='vscode-notebook-cell:/c%3A/Users/User/Desktop/Data_structure_practices/week6_binary_trees/huffman_tree.ipynb#X22sZmlsZQ%3D%3D?line=112'>113</a>\u001b[0m     \u001b[39mif\u001b[39;00m \u001b[39mself\u001b[39m\u001b[39m.\u001b[39mtree[leftchildIndex] \u001b[39m==\u001b[39m \u001b[39mNone\u001b[39;00m \u001b[39mor\u001b[39;00m leftchildIndex \u001b[39m>\u001b[39m \u001b[39mself\u001b[39;49m\u001b[39m.\u001b[39;49mend:\n\u001b[0;32m    <a href='vscode-notebook-cell:/c%3A/Users/User/Desktop/Data_structure_practices/week6_binary_trees/huffman_tree.ipynb#X22sZmlsZQ%3D%3D?line=113'>114</a>\u001b[0m         \u001b[39mreturn\u001b[39;00m [\u001b[39mNone\u001b[39;00m,\u001b[39mNone\u001b[39;00m,\u001b[39m0\u001b[39m] , \u001b[39mNone\u001b[39;00m\n\u001b[0;32m    <a href='vscode-notebook-cell:/c%3A/Users/User/Desktop/Data_structure_practices/week6_binary_trees/huffman_tree.ipynb#X22sZmlsZQ%3D%3D?line=114'>115</a>\u001b[0m     \u001b[39melse\u001b[39;00m:\n",
      "\u001b[1;31mKeyboardInterrupt\u001b[0m: "
     ]
    }
   ],
   "source": [
    "tree.delete_node()\n",
    "tree.delete_node()\n",
    "\n",
    "tree.display_tree()"
   ]
  }
 ],
 "metadata": {
  "kernelspec": {
   "display_name": "Python 3",
   "language": "python",
   "name": "python3"
  },
  "language_info": {
   "codemirror_mode": {
    "name": "ipython",
    "version": 3
   },
   "file_extension": ".py",
   "mimetype": "text/x-python",
   "name": "python",
   "nbconvert_exporter": "python",
   "pygments_lexer": "ipython3",
   "version": "3.9.12"
  },
  "orig_nbformat": 4
 },
 "nbformat": 4,
 "nbformat_minor": 2
}
